{
 "cells": [
  {
   "cell_type": "markdown",
   "metadata": {},
   "source": [
    "# ECG-Classification-keras\n",
    "#### @based-on https://github.com/SEU-wzx/ECGAI_1D-CNN.git"
   ]
  },
  {
   "cell_type": "markdown",
   "metadata": {},
   "source": [
    "## Import Packages"
   ]
  },
  {
   "cell_type": "code",
   "execution_count": 6,
   "metadata": {},
   "outputs": [],
   "source": [
    "import tensorflow as tf\n",
    "import tensorflow.keras as keras\n",
    "\n",
    "import random\n",
    "import numpy as np\n",
    "import scipy.io as scio\n",
    "import pandas as pd\n",
    "import os\n",
    "import collections\n",
    "from matplotlib import pyplot as plt\n",
    "\n",
    "from keras import optimizers\n",
    "from keras.models import Model, Sequential\n",
    "from keras.optimizers import Adam, SGD, RMSprop\n",
    "from keras.layers import Dense, Dropout, Activation, Flatten, Input\n",
    "from keras.layers import Conv1D, BatchNormalization, MaxPooling1D\n",
    "from keras.utils import to_categorical\n",
    "\n",
    "from sklearn.model_selection import train_test_split"
   ]
  },
  {
   "cell_type": "markdown",
   "metadata": {},
   "source": [
    "## Set Path"
   ]
  },
  {
   "cell_type": "code",
   "execution_count": 7,
   "metadata": {},
   "outputs": [],
   "source": [
    "base_path = './'\n",
    "dataset_path =  './Dataset' # Training data"
   ]
  },
  {
   "cell_type": "markdown",
   "metadata": {},
   "source": [
    "## Plot Settings"
   ]
  },
  {
   "cell_type": "code",
   "execution_count": 8,
   "metadata": {},
   "outputs": [],
   "source": [
    "plt.rcParams[\"figure.figsize\"] = (15,5)\n",
    "plt.rcParams['lines.linewidth'] = 2\n",
    "plt.rcParams['lines.color'] = 'b'\n",
    "plt.rcParams['axes.grid'] = True"
   ]
  },
  {
   "cell_type": "markdown",
   "metadata": {},
   "source": [
    "## Data Process"
   ]
  },
  {
   "cell_type": "code",
   "execution_count": 11,
   "metadata": {},
   "outputs": [],
   "source": [
    "# Variables\n",
    "\n",
    "classes = ['NSR', 'APB', 'AFL', 'AFIB', 'SVTA', 'WPW','PVC', 'Bigeminy', 'Trigeminy', \n",
    "           'VT', 'IVR', 'VFL', 'Fusion', 'LBBBB', 'RBBBB', 'SDHB', 'PR']\n",
    "ClassesNum = len(classes)\n",
    "\n",
    "X = list()\n",
    "y = list()\n",
    "\n",
    "for root, dirs, files in os.walk(dataset_path, topdown=False):\n",
    "    for name in files:\n",
    "        data_train = scio.loadmat(os.path.join(root, name))# 取出字典里的value\n",
    "        \n",
    "        # arr -> list\n",
    "        data_arr = data_train.get('val')\n",
    "        data_list = data_arr.tolist()\n",
    "        \n",
    "        X.append(data_list[0]) # [[……]] -> [ ]\n",
    "        y.append(int(os.path.basename(root)[0:2]) - 1)  # name -> num"
   ]
  },
  {
   "cell_type": "markdown",
   "metadata": {},
   "source": [
    "## Layers"
   ]
  },
  {
   "cell_type": "code",
   "execution_count": 9,
   "metadata": {},
   "outputs": [],
   "source": [
    "def nn_base(Unit, Kernel, Conv_Stride, Maxpool_Stride, input_tensor = None):\n",
    "    \n",
    "    input_shape = (None, 3)\n",
    "\n",
    "    ecg_input = input_tensor\n",
    "\n",
    "    bn_axis = 3\n",
    "\n",
    "    # nn_base\n",
    "    x = Conv1D(filters = Unit, kernel_size = Kernel, padding = 'same', strides = Conv_Stride, activation = 'relu', \n",
    "               data_format='channels_last')(ecg_input)\n",
    "    \n",
    "    x = BatchNormalization()(x)\n",
    "    \n",
    "    x = MaxPooling1D(pool_size = 2, strides = Maxpool_Stride, padding = 'same', \n",
    "                     data_format='channels_last')(x)\n",
    "\n",
    "    return x"
   ]
  },
  {
   "cell_type": "code",
   "execution_count": 10,
   "metadata": {},
   "outputs": [],
   "source": [
    "def classifier_layer(base_layer, dropout_rate = 0.1, ClassesNum = 17):\n",
    "    \n",
    "    # classifier layers\n",
    "    x = Conv1D(filters = 32, kernel_size = 10, padding = 'same', activation = 'relu', \n",
    "               name = 'classifier_layer_Conv1D1', data_format='channels_last')(base_layer)\n",
    "    \n",
    "    x = Conv1D(filters = 128, kernel_size = 5, padding = 'same', activation = 'relu', \n",
    "               strides = 2, name = 'classifier_layer_Conv1D2', data_format='channels_last')(x)\n",
    "    \n",
    "    x = MaxPooling1D(pool_size = 2, strides = 2, padding = 'same', \n",
    "                     name = 'classifier_layer_MaxPooling1D1', data_format='channels_last')(x)\n",
    "    \n",
    "    x = Conv1D(filters = 256, kernel_size = 15, padding = 'same', activation = 'relu', \n",
    "               name = 'classifier_layer_Conv1D3', data_format='channels_last')(x)\n",
    "    \n",
    "    x = MaxPooling1D(pool_size = 2, strides = 2, padding = 'same', \n",
    "                     name = 'classifier_layer_MaxPooling1D2', data_format='channels_last')(x)\n",
    "    \n",
    "    x = Conv1D(filters = 512, kernel_size = 5, padding = 'same', activation = 'relu', \n",
    "               name = 'classifier_layer_Conv1D4', data_format='channels_last')(x)\n",
    "    \n",
    "    x = Conv1D(filters = 128, kernel_size = 3, padding = 'same', activation = 'relu', \n",
    "               name = 'classifier_layer_Conv1D5', data_format='channels_last')(x)\n",
    "    \n",
    "    \n",
    "    x = Flatten(name = 'classifier_layer_Flatten')(x)\n",
    "    x = Dense(units = 512, activation = 'relu', name = 'classifier_layer_Dense1')(x)\n",
    "    x = Dropout(rate = dropout_rate, name = 'classifier_layer_Dropout')(x)\n",
    "    x = Dense(units = ClassesNum, activation = 'softmax', name = 'classifier_layer_Dense2')(x)\n",
    "    \n",
    "    return x"
   ]
  },
  {
   "cell_type": "markdown",
   "metadata": {},
   "source": [
    "## Dataset Check"
   ]
  },
  {
   "cell_type": "code",
   "execution_count": 13,
   "metadata": {},
   "outputs": [
    {
     "name": "stdout",
     "output_type": "stream",
     "text": [
      "total num of training data :  1000\n",
      "X_train :  800\n",
      "X_test  :  200\n",
      "y_train :  Counter({0: 230, 6: 108, 3: 107, 13: 84, 1: 51, 14: 46, 7: 43, 16: 38, 2: 17, 5: 17, 8: 11, 4: 11, 11: 9, 9: 8, 10: 8, 12: 7, 15: 5})\n",
      "y_test  :  Counter({0: 53, 3: 28, 6: 25, 13: 19, 14: 16, 1: 15, 7: 12, 16: 7, 15: 5, 5: 4, 12: 4, 2: 3, 10: 2, 4: 2, 9: 2, 8: 2, 11: 1})\n",
      "shape of X_train :  (3600,)\n",
      "shape of y_train :  (800,)\n",
      "shape of X_test :  (200, 3600)\n",
      "shape of y_test :  (200,)\n"
     ]
    }
   ],
   "source": [
    "# list -> arr\n",
    "X=np.array(X)\n",
    "y=np.array(y)\n",
    "\n",
    "print(\"total num of training data : \", len(X))\n",
    "\n",
    "# get X_train, X_test, y_train, y_test \n",
    "X_train, X_test, y_train, y_test = train_test_split(X, y, test_size=0.2)\n",
    "\n",
    "print(\"X_train : \", len(X_train))\n",
    "print(\"X_test  : \", len(X_test))\n",
    "print(\"y_train : \", collections.Counter(y_train))\n",
    "print(\"y_test  : \", collections.Counter(y_test))\n",
    "print(\"shape of X_train : \", np.shape(X_train[0]))\n",
    "print(\"shape of y_train : \", np.shape(y_train))\n",
    "print(\"shape of X_test : \", np.shape(X_test))\n",
    "print(\"shape of y_test : \", np.shape(y_test))"
   ]
  },
  {
   "cell_type": "markdown",
   "metadata": {},
   "source": [
    "## Model Graph"
   ]
  },
  {
   "cell_type": "code",
   "execution_count": 14,
   "metadata": {},
   "outputs": [
    {
     "name": "stdout",
     "output_type": "stream",
     "text": [
      "Model: \"model\"\n",
      "_________________________________________________________________\n",
      "Layer (type)                 Output Shape              Param #   \n",
      "=================================================================\n",
      "input_1 (InputLayer)         [(None, 3600, 1)]         0         \n",
      "_________________________________________________________________\n",
      "conv1d (Conv1D)              (None, 1200, 128)         6528      \n",
      "_________________________________________________________________\n",
      "batch_normalization (BatchNo (None, 1200, 128)         512       \n",
      "_________________________________________________________________\n",
      "max_pooling1d (MaxPooling1D) (None, 400, 128)          0         \n",
      "_________________________________________________________________\n",
      "conv1d_1 (Conv1D)            (None, 400, 32)           28704     \n",
      "_________________________________________________________________\n",
      "batch_normalization_1 (Batch (None, 400, 32)           128       \n",
      "_________________________________________________________________\n",
      "max_pooling1d_1 (MaxPooling1 (None, 200, 32)           0         \n",
      "_________________________________________________________________\n",
      "classifier_layer_Conv1D1 (Co (None, 200, 32)           10272     \n",
      "_________________________________________________________________\n",
      "classifier_layer_Conv1D2 (Co (None, 100, 128)          20608     \n",
      "_________________________________________________________________\n",
      "classifier_layer_MaxPooling1 (None, 50, 128)           0         \n",
      "_________________________________________________________________\n",
      "classifier_layer_Conv1D3 (Co (None, 50, 256)           491776    \n",
      "_________________________________________________________________\n",
      "classifier_layer_MaxPooling1 (None, 25, 256)           0         \n",
      "_________________________________________________________________\n",
      "classifier_layer_Conv1D4 (Co (None, 25, 512)           655872    \n",
      "_________________________________________________________________\n",
      "classifier_layer_Conv1D5 (Co (None, 25, 128)           196736    \n",
      "_________________________________________________________________\n",
      "classifier_layer_Flatten (Fl (None, 3200)              0         \n",
      "_________________________________________________________________\n",
      "classifier_layer_Dense1 (Den (None, 512)               1638912   \n",
      "_________________________________________________________________\n",
      "classifier_layer_Dropout (Dr (None, 512)               0         \n",
      "_________________________________________________________________\n",
      "classifier_layer_Dense2 (Den (None, 17)                8721      \n",
      "=================================================================\n",
      "Total params: 3,058,769\n",
      "Trainable params: 3,058,449\n",
      "Non-trainable params: 320\n",
      "_________________________________________________________________\n",
      "None\n"
     ]
    }
   ],
   "source": [
    "input_ecg = Input(shape=(3600,1))\n",
    "x = nn_base(128, 50, Conv_Stride = 3, Maxpool_Stride = 3, input_tensor = input_ecg)\n",
    "x = nn_base(32, 7, Conv_Stride = 1, Maxpool_Stride = 2, input_tensor = x)\n",
    "output_ecg = classifier_layer(x, dropout_rate = 0.1, ClassesNum = 17)\n",
    "model_m = Model(input_ecg, output_ecg)\n",
    "print(model_m.summary())"
   ]
  },
  {
   "cell_type": "markdown",
   "metadata": {},
   "source": [
    "## Settings optimizers & compile"
   ]
  },
  {
   "cell_type": "code",
   "execution_count": 15,
   "metadata": {},
   "outputs": [
    {
     "data": {
      "text/plain": [
       "(800, 3600, 1)"
      ]
     },
     "metadata": {},
     "output_type": "display_data"
    }
   ],
   "source": [
    "# setting optimizers & compile\n",
    "optimizers.Adam(lr = 0.002, beta_1 = 0.9, beta_2 = 0.999, epsilon = None, decay = 0.0, amsgrad = False)\n",
    "# model_all.compile(optimizer = 'adam', loss = 'categorical_crossentropy', metrics = ['accuracy'])\n",
    "model_m.compile(optimizer = 'adam', loss = 'categorical_crossentropy', metrics = ['accuracy'])\n",
    "\n",
    "# expand X_train dims\n",
    "X_train = np.expand_dims(X_train, axis=2)\n",
    "X_test = np.reshape(X_test, (np.shape(X_test)[0], np.shape(X_test)[1], 1))\n",
    "# Y : int -> binary (one-hot)\n",
    "y_train = to_categorical(y_train,num_classes = ClassesNum)\n",
    "y_test = to_categorical(y_test,num_classes = ClassesNum)\n",
    "\n",
    "display(np.shape(X_train))"
   ]
  },
  {
   "cell_type": "markdown",
   "metadata": {},
   "source": [
    "## Train"
   ]
  },
  {
   "cell_type": "code",
   "execution_count": 21,
   "metadata": {},
   "outputs": [
    {
     "name": "stdout",
     "output_type": "stream",
     "text": [
      "Epoch 1/50\n",
      "50/50 [==============================] - 4s 60ms/step - loss: 2.5534 - accuracy: 0.2367\n",
      "Epoch 2/50\n",
      "50/50 [==============================] - 3s 60ms/step - loss: 2.1364 - accuracy: 0.3134\n",
      "Epoch 3/50\n",
      "50/50 [==============================] - 3s 60ms/step - loss: 1.9576 - accuracy: 0.3368\n",
      "Epoch 4/50\n",
      "50/50 [==============================] - 3s 60ms/step - loss: 1.7243 - accuracy: 0.4710\n",
      "Epoch 5/50\n",
      "50/50 [==============================] - 3s 60ms/step - loss: 1.3510 - accuracy: 0.5713\n",
      "Epoch 6/50\n",
      "50/50 [==============================] - 3s 60ms/step - loss: 1.0997 - accuracy: 0.6576\n",
      "Epoch 7/50\n",
      "50/50 [==============================] - 3s 61ms/step - loss: 0.8405 - accuracy: 0.7255\n",
      "Epoch 8/50\n",
      "50/50 [==============================] - 3s 64ms/step - loss: 0.6162 - accuracy: 0.8072\n",
      "Epoch 9/50\n",
      "50/50 [==============================] - 3s 61ms/step - loss: 0.4325 - accuracy: 0.8675\n",
      "Epoch 10/50\n",
      "50/50 [==============================] - 3s 61ms/step - loss: 0.4216 - accuracy: 0.8938\n",
      "Epoch 11/50\n",
      "50/50 [==============================] - 3s 62ms/step - loss: 0.3495 - accuracy: 0.8844\n",
      "Epoch 12/50\n",
      "50/50 [==============================] - 3s 64ms/step - loss: 0.3109 - accuracy: 0.9060\n",
      "Epoch 13/50\n",
      "50/50 [==============================] - 3s 68ms/step - loss: 0.2348 - accuracy: 0.9386\n",
      "Epoch 14/50\n",
      "50/50 [==============================] - 3s 61ms/step - loss: 0.1864 - accuracy: 0.9471\n",
      "Epoch 15/50\n",
      "50/50 [==============================] - 3s 62ms/step - loss: 0.1322 - accuracy: 0.9475\n",
      "Epoch 16/50\n",
      "50/50 [==============================] - 3s 65ms/step - loss: 0.2255 - accuracy: 0.9350\n",
      "Epoch 17/50\n",
      "50/50 [==============================] - 3s 69ms/step - loss: 0.1675 - accuracy: 0.9566\n",
      "Epoch 18/50\n",
      "50/50 [==============================] - 3s 68ms/step - loss: 0.1760 - accuracy: 0.9385\n",
      "Epoch 19/50\n",
      "50/50 [==============================] - 3s 68ms/step - loss: 0.0625 - accuracy: 0.9791\n",
      "Epoch 20/50\n",
      "50/50 [==============================] - 3s 66ms/step - loss: 0.0602 - accuracy: 0.9820\n",
      "Epoch 21/50\n",
      "50/50 [==============================] - 3s 67ms/step - loss: 0.0292 - accuracy: 0.9885\n",
      "Epoch 22/50\n",
      "50/50 [==============================] - 3s 66ms/step - loss: 0.1621 - accuracy: 0.9394\n",
      "Epoch 23/50\n",
      "50/50 [==============================] - 3s 66ms/step - loss: 0.0458 - accuracy: 0.9859\n",
      "Epoch 24/50\n",
      "50/50 [==============================] - 3s 68ms/step - loss: 0.0236 - accuracy: 0.9932\n",
      "Epoch 25/50\n",
      "50/50 [==============================] - 3s 67ms/step - loss: 0.0154 - accuracy: 0.9955\n",
      "Epoch 26/50\n",
      "50/50 [==============================] - 3s 67ms/step - loss: 9.9452e-04 - accuracy: 1.0000\n",
      "Epoch 27/50\n",
      "50/50 [==============================] - 3s 66ms/step - loss: 3.4193e-04 - accuracy: 1.0000\n",
      "Epoch 28/50\n",
      "50/50 [==============================] - 3s 67ms/step - loss: 2.0935e-04 - accuracy: 1.0000\n",
      "Epoch 29/50\n",
      "50/50 [==============================] - 3s 67ms/step - loss: 1.4427e-04 - accuracy: 1.0000\n",
      "Epoch 30/50\n",
      "50/50 [==============================] - 3s 66ms/step - loss: 6.8170e-05 - accuracy: 1.0000\n",
      "Epoch 31/50\n",
      "50/50 [==============================] - 3s 67ms/step - loss: 8.4685e-05 - accuracy: 1.0000\n",
      "Epoch 32/50\n",
      "50/50 [==============================] - 3s 68ms/step - loss: 1.1019e-04 - accuracy: 1.0000\n",
      "Epoch 33/50\n",
      "50/50 [==============================] - 3s 66ms/step - loss: 4.0105e-05 - accuracy: 1.0000\n",
      "Epoch 34/50\n",
      "50/50 [==============================] - 3s 67ms/step - loss: 4.5149e-05 - accuracy: 1.0000\n",
      "Epoch 35/50\n",
      "50/50 [==============================] - 3s 67ms/step - loss: 4.1495e-05 - accuracy: 1.0000\n",
      "Epoch 36/50\n",
      "50/50 [==============================] - 3s 68ms/step - loss: 4.8887e-05 - accuracy: 1.0000\n",
      "Epoch 37/50\n",
      "50/50 [==============================] - 3s 67ms/step - loss: 1.9700e-05 - accuracy: 1.0000\n",
      "Epoch 38/50\n",
      "50/50 [==============================] - 3s 67ms/step - loss: 5.9269e-05 - accuracy: 1.0000\n",
      "Epoch 39/50\n",
      "50/50 [==============================] - 3s 67ms/step - loss: 2.8354e-05 - accuracy: 1.0000 0s - loss: 2.7\n",
      "Epoch 40/50\n",
      "50/50 [==============================] - 3s 64ms/step - loss: 8.2318e-05 - accuracy: 1.0000\n",
      "Epoch 41/50\n",
      "50/50 [==============================] - 3s 68ms/step - loss: 9.9010e-06 - accuracy: 1.0000\n",
      "Epoch 42/50\n",
      "50/50 [==============================] - 3s 65ms/step - loss: 1.8481e-05 - accuracy: 1.0000\n",
      "Epoch 43/50\n",
      "50/50 [==============================] - 3s 62ms/step - loss: 1.0624e-05 - accuracy: 1.0000\n",
      "Epoch 44/50\n",
      "50/50 [==============================] - 3s 64ms/step - loss: 1.0044e-05 - accuracy: 1.0000\n",
      "Epoch 45/50\n",
      "50/50 [==============================] - 3s 66ms/step - loss: 2.3209e-05 - accuracy: 1.0000\n",
      "Epoch 46/50\n",
      "50/50 [==============================] - 3s 66ms/step - loss: 1.5572e-05 - accuracy: 1.0000\n",
      "Epoch 47/50\n",
      "50/50 [==============================] - 3s 66ms/step - loss: 1.9901e-05 - accuracy: 1.0000\n",
      "Epoch 48/50\n",
      "50/50 [==============================] - 3s 61ms/step - loss: 2.3426e-05 - accuracy: 1.0000\n",
      "Epoch 49/50\n",
      "50/50 [==============================] - 3s 63ms/step - loss: 7.0285e-06 - accuracy: 1.0000\n",
      "Epoch 50/50\n",
      "50/50 [==============================] - 3s 65ms/step - loss: 7.1731e-06 - accuracy: 1.0000\n"
     ]
    }
   ],
   "source": [
    "BATCH_SIZE = 16\n",
    "EPOCHS = 50\n",
    "# history = model_all.fit(X_train, y_train, batch_size = BATCH_SIZE, epochs = EPOCHS)\n",
    "history = model_m.fit(X_train, y_train, batch_size = BATCH_SIZE, epochs = EPOCHS)"
   ]
  },
  {
   "cell_type": "markdown",
   "metadata": {},
   "source": [
    "## Accuracy & Loss"
   ]
  },
  {
   "cell_type": "code",
   "execution_count": 22,
   "metadata": {},
   "outputs": [
    {
     "name": "stdout",
     "output_type": "stream",
     "text": [
      "dict_keys(['loss', 'accuracy'])\n",
      "[2.405817747116089, 2.1461055278778076, 1.9239091873168945, 1.6421297788619995, 1.2679063081741333, 1.0198286771774292, 0.793089747428894, 0.5858447551727295, 0.4464336633682251, 0.47552040219306946, 0.3735024631023407, 0.3163997530937195, 0.23524034023284912, 0.18167179822921753, 0.14007362723350525, 0.2587383985519409, 0.16652603447437286, 0.18741632997989655, 0.0971047505736351, 0.04476744309067726, 0.0865359753370285, 0.12133802473545074, 0.04377681389451027, 0.025921883061528206, 0.008052167482674122, 0.0009137274464592338, 0.00037189514841884375, 0.0002516536333132535, 0.00016912809223867953, 9.710065933177248e-05, 0.00011813401215476915, 7.953769818414003e-05, 3.5480348742567e-05, 3.9107882912503555e-05, 3.6508197808871046e-05, 4.295706457924098e-05, 1.909744787553791e-05, 5.034527202951722e-05, 2.9259857910801657e-05, 5.0769493100233376e-05, 1.1959836228925269e-05, 2.2845431885798462e-05, 1.0415482393000275e-05, 1.42215230880538e-05, 1.4911309335730039e-05, 1.1443554285506252e-05, 1.7414549802197143e-05, 1.487159988755593e-05, 8.243407137342729e-06, 1.0732412192737684e-05]\n",
      "[0.2762500047683716, 0.3087500035762787, 0.36500000953674316, 0.5087500214576721, 0.6075000166893005, 0.6912500262260437, 0.7400000095367432, 0.8174999952316284, 0.8637499809265137, 0.8700000047683716, 0.875, 0.9049999713897705, 0.9287499785423279, 0.9362499713897705, 0.949999988079071, 0.9337499737739563, 0.9574999809265137, 0.9449999928474426, 0.9712499976158142, 0.9887499809265137, 0.9837499856948853, 0.9612500071525574, 0.9862499833106995, 0.9912499785423279, 0.9975000023841858, 1.0, 1.0, 1.0, 1.0, 1.0, 1.0, 1.0, 1.0, 1.0, 1.0, 1.0, 1.0, 1.0, 1.0, 1.0, 1.0, 1.0, 1.0, 1.0, 1.0, 1.0, 1.0, 1.0, 1.0, 1.0]\n"
     ]
    }
   ],
   "source": [
    "print(history.history.keys())\n",
    "print(history.history['loss'])\n",
    "print(history.history['accuracy'])"
   ]
  },
  {
   "cell_type": "markdown",
   "metadata": {},
   "source": [
    "## Plot"
   ]
  },
  {
   "cell_type": "code",
   "execution_count": 23,
   "metadata": {},
   "outputs": [
    {
     "data": {
      "text/plain": [
       "Text(0.5, 1.0, 'acc')"
      ]
     },
     "execution_count": 23,
     "metadata": {},
     "output_type": "execute_result"
    },
    {
     "data": {
      "image/png": "[encoded data removed]",
      "text/plain": [
       "<Figure size 1080x360 with 2 Axes>"
      ]
     },
     "metadata": {
      "needs_background": "light"
     },
     "output_type": "display_data"
    }
   ],
   "source": [
    "\n",
    "# put into df\n",
    "record_arr = np.array([history.history['loss'][0], history.history['accuracy'][0]])\n",
    "for i in range(1, EPOCHS):\n",
    "    new_row = np.array([history.history['loss'][i], history.history['accuracy'][i]])\n",
    "    record_arr = np.row_stack((record_arr, new_row))\n",
    "    \n",
    "record_df = pd.DataFrame(record_arr, columns=[\"loss\", \"acc\"])\n",
    "\n",
    "#print curve\n",
    "plt.subplot(1,2,1)\n",
    "plt.plot(np.arange(0, EPOCHS), record_df[\"loss\"], 'r')\n",
    "plt.title('loss')\n",
    "plt.subplot(1,2,2)\n",
    "plt.plot(np.arange(0, EPOCHS), record_df[\"acc\"], 'r')\n",
    "plt.title('acc')"
   ]
  },
  {
   "cell_type": "code",
   "execution_count": 24,
   "metadata": {},
   "outputs": [
    {
     "name": "stdout",
     "output_type": "stream",
     "text": [
      "13/13 [==============================] - 0s 11ms/step - loss: 0.9299 - accuracy: 0.8850\n",
      "loss of val :  0.929912269115448\n",
      "acc of val :  0.8849999904632568\n"
     ]
    }
   ],
   "source": [
    "# val_loss_acc = model_all.evaluate(X_test, y_test, batch_size=100)\n",
    "val_loss_acc = model_m.evaluate(X_test, y_test, batch_size = 16)\n",
    "print(\"loss of val : \", val_loss_acc[0])\n",
    "print(\"acc of val : \", val_loss_acc[1])"
   ]
  },
  {
   "cell_type": "markdown",
   "metadata": {},
   "source": [
    "## Predict"
   ]
  },
  {
   "cell_type": "code",
   "execution_count": 25,
   "metadata": {},
   "outputs": [
    {
     "data": {
      "text/plain": [
       "array([[2.33255742e-31, 2.47587116e-32, 0.00000000e+00, ...,\n",
       "        1.00000000e+00, 0.00000000e+00, 0.00000000e+00],\n",
       "       [1.00000000e+00, 1.51795070e-17, 3.76519364e-35, ...,\n",
       "        7.15471773e-18, 5.59195484e-37, 3.87298982e-30],\n",
       "       [9.99990582e-01, 9.41698090e-06, 1.15297777e-14, ...,\n",
       "        4.43217518e-10, 2.54536167e-19, 1.88004841e-20],\n",
       "       ...,\n",
       "       [0.00000000e+00, 0.00000000e+00, 0.00000000e+00, ...,\n",
       "        0.00000000e+00, 0.00000000e+00, 0.00000000e+00],\n",
       "       [9.99997139e-01, 1.04110484e-07, 2.55634300e-13, ...,\n",
       "        5.79310422e-09, 3.93976411e-16, 2.02479335e-16],\n",
       "       [1.00000000e+00, 2.61048422e-11, 4.93010766e-28, ...,\n",
       "        2.86552635e-14, 6.29648800e-31, 7.61571152e-28]], dtype=float32)"
      ]
     },
     "metadata": {},
     "output_type": "display_data"
    }
   ],
   "source": [
    "# predictions = model_all.predict(X_test)\n",
    "predictions = model_m.predict(X_test)\n",
    "display(predictions)"
   ]
  },
  {
   "cell_type": "code",
   "execution_count": null,
   "metadata": {},
   "outputs": [],
   "source": []
  }
 ],
 "metadata": {
  "kernelspec": {
   "display_name": "Python 3",
   "language": "python",
   "name": "python3"
  },
  "language_info": {
   "codemirror_mode": {
    "name": "ipython",
    "version": 3
   },
   "file_extension": ".py",
   "mimetype": "text/x-python",
   "name": "python",
   "nbconvert_exporter": "python",
   "pygments_lexer": "ipython3",
   "version": "3.8.5"
  }
 },
 "nbformat": 4,
 "nbformat_minor": 4
}

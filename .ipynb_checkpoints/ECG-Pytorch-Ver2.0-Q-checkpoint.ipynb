{
 "cells": [
  {
   "cell_type": "markdown",
   "id": "2c2dec9d",
   "metadata": {},
   "source": [
    "# ECG-Pytorch-Ver2.0\n",
    "\n",
    "@create 2021-09-13\n",
    "@author 孙寒石\n",
    "@env Pytorch 1.9.0 Python 3.7"
   ]
  },
  {
   "cell_type": "markdown",
   "id": "822a69dd",
   "metadata": {},
   "source": [
    "## Import Packages"
   ]
  },
  {
   "cell_type": "code",
   "execution_count": 1,
   "id": "30a3bb18",
   "metadata": {},
   "outputs": [],
   "source": [
    "import torch\n",
    "import torch.nn as nn\n",
    "from torch.nn import functional as F\n",
    "from torch.autograd import Variable\n",
    "from torch.utils.data import Dataset, DataLoader\n",
    "from torchvision import transforms\n",
    "import torch.optim as optim\n",
    "\n",
    "import numpy as np\n",
    "import pandas as pd\n",
    "import matplotlib.pyplot as plt"
   ]
  },
  {
   "cell_type": "markdown",
   "id": "692deb4e",
   "metadata": {},
   "source": [
    "## Prepare Dataset"
   ]
  },
  {
   "cell_type": "code",
   "execution_count": 11,
   "id": "430755c8",
   "metadata": {},
   "outputs": [
    {
     "name": "stdout",
     "output_type": "stream",
     "text": [
      "X_train :  800\n",
      "X_test  :  200\n",
      "shape of X_train :  (1, 3600)\n",
      "shape of y_train :  (800,)\n",
      "shape of X_test :  (200, 1, 3600)\n",
      "shape of y_test :  (200,)\n"
     ]
    }
   ],
   "source": [
    "import os\n",
    "import scipy.io as scio\n",
    "from sklearn.model_selection import train_test_split\n",
    "\n",
    "base_path = './'\n",
    "dataset_path =  './Dataset' # Training data\n",
    "\n",
    "classes = ['NSR', 'APB', 'AFL', 'AFIB', 'SVTA', 'WPW','PVC', 'Bigeminy', 'Trigeminy', \n",
    "           'VT', 'IVR', 'VFL', 'Fusion', 'LBBBB', 'RBBBB', 'SDHB', 'PR']\n",
    "ClassesNum = len(classes)\n",
    "\n",
    "X = list()\n",
    "y = list()\n",
    "\n",
    "for root, dirs, files in os.walk(dataset_path, topdown=False):\n",
    "    for name in files:\n",
    "        data_train = scio.loadmat(os.path.join(root, name))# 取出字典里的value\n",
    "        \n",
    "        # arr -> list\n",
    "        data_arr = data_train.get('val')\n",
    "        data_list = data_arr.tolist()\n",
    "        \n",
    "        X.append(data_list[0]) # [[……]] -> [ ]\n",
    "        y.append(int(os.path.basename(root)[0:2]) - 1)  # name -> num\n",
    "        \n",
    "def normalization(data):\n",
    "    _range = np.max(data) - np.min(data)\n",
    "    return (data - np.min(data)) / _range\n",
    "        \n",
    "def standardization(data):\n",
    "    mu = np.mean(data, axis=0)\n",
    "    sigma = np.std(data, axis=0)\n",
    "    return (data - mu) / sigma\n",
    "    \n",
    "X=np.array(X)\n",
    "y=np.array(y)\n",
    "X = standardization(X)\n",
    "X = X.reshape((1000,1,3600))\n",
    "y = y.reshape((1000))\n",
    "X_train, X_test, y_train, y_test = train_test_split(X, y, test_size=0.2)\n",
    "print(\"X_train : \", len(X_train))\n",
    "print(\"X_test  : \", len(X_test))\n",
    "print(\"shape of X_train : \", np.shape(X_train[0]))\n",
    "print(\"shape of y_train : \", np.shape(y_train))\n",
    "print(\"shape of X_test : \", np.shape(X_test))\n",
    "print(\"shape of y_test : \", np.shape(y_test))"
   ]
  },
  {
   "cell_type": "code",
   "execution_count": 3,
   "id": "83a1fa99",
   "metadata": {},
   "outputs": [],
   "source": [
    "batch_size = 16\n",
    "class MyDataset(Dataset):\n",
    "    def __init__(self):\n",
    "        self.len = X_train.shape[0] # 取第0元素：长度\n",
    "        self.x_train = torch.from_numpy(X_train).float().to(\"cuda\")\n",
    "        self.y_train = torch.from_numpy(y_train).long().to(\"cuda\")\n",
    "    def __getitem__(self, index):\n",
    "        return self.x_train[index], self.y_train[index] # 返回对应样本即可\n",
    "    def __len__(self):\n",
    "        return self.len\n",
    "    \n",
    "class TestDataset(Dataset):\n",
    "    def __init__(self):\n",
    "        self.len = X_test.shape[0] # 取第0元素：长度\n",
    "        self.x_test = torch.from_numpy(X_test).float().to(\"cuda\")\n",
    "        self.y_test = torch.from_numpy(y_test).long().to(\"cuda\")\n",
    "    def __getitem__(self, index):\n",
    "        return self.x_test[index], self.y_test[index] # 返回对应样本即可\n",
    "    def __len__(self):\n",
    "        return self.len    \n",
    "        \n",
    "train_dataset = MyDataset()\n",
    "test_dataset = TestDataset()\n",
    "train_loader = DataLoader(dataset=train_dataset, \n",
    "                          batch_size=batch_size, \n",
    "                          shuffle=True, \n",
    "                          num_workers=0)\n",
    "test_loader = DataLoader(dataset=test_dataset, \n",
    "                          batch_size=batch_size, \n",
    "                          shuffle=True, \n",
    "                          num_workers=0)"
   ]
  },
  {
   "cell_type": "markdown",
   "id": "7a71646d",
   "metadata": {},
   "source": [
    "## Load Model"
   ]
  },
  {
   "cell_type": "code",
   "execution_count": 4,
   "id": "4433fe28",
   "metadata": {},
   "outputs": [
    {
     "name": "stdout",
     "output_type": "stream",
     "text": [
      "----------------------------------------------------------------\n",
      "        Layer (type)               Output Shape         Param #\n",
      "================================================================\n",
      "            Conv1d-1              [-1, 8, 1800]             136\n",
      "              ReLU-2              [-1, 8, 1800]               0\n",
      "         MaxPool1d-3               [-1, 8, 449]               0\n",
      "            Conv1d-4              [-1, 12, 224]           1,164\n",
      "              ReLU-5              [-1, 12, 224]               0\n",
      "         MaxPool1d-6              [-1, 12, 111]               0\n",
      "            Conv1d-7              [-1, 32, 111]           3,488\n",
      "              ReLU-8              [-1, 32, 111]               0\n",
      "         MaxPool1d-9               [-1, 32, 54]               0\n",
      "           Conv1d-10               [-1, 64, 54]          14,400\n",
      "             ReLU-11               [-1, 64, 54]               0\n",
      "        MaxPool1d-12               [-1, 64, 26]               0\n",
      "           Conv1d-13               [-1, 64, 26]          20,544\n",
      "             ReLU-14               [-1, 64, 26]               0\n",
      "        MaxPool1d-15               [-1, 64, 13]               0\n",
      "           Conv1d-16               [-1, 64, 13]          12,352\n",
      "             ReLU-17               [-1, 64, 13]               0\n",
      "        MaxPool1d-18                [-1, 64, 6]               0\n",
      "           Conv1d-19                [-1, 72, 6]          13,896\n",
      "             ReLU-20                [-1, 72, 6]               0\n",
      "        MaxPool1d-21                [-1, 72, 3]               0\n",
      "          Flatten-22                  [-1, 216]               0\n",
      "           Linear-23                   [-1, 64]          13,888\n",
      "             ReLU-24                   [-1, 64]               0\n",
      "          Dropout-25                   [-1, 64]               0\n",
      "           Linear-26                   [-1, 17]           1,105\n",
      "================================================================\n",
      "Total params: 80,973\n",
      "Trainable params: 80,973\n",
      "Non-trainable params: 0\n",
      "----------------------------------------------------------------\n",
      "Input size (MB): 0.01\n",
      "Forward/backward pass size (MB): 0.49\n",
      "Params size (MB): 0.31\n",
      "Estimated Total Size (MB): 0.81\n",
      "----------------------------------------------------------------\n"
     ]
    },
    {
     "name": "stderr",
     "output_type": "stream",
     "text": [
      "/home/preminstrel/anaconda3/envs/pytorch/lib/python3.7/site-packages/torch/nn/functional.py:652: UserWarning: Named tensors and all their associated APIs are an experimental feature and subject to change. Please do not use them for anything important until they are released as stable. (Triggered internally at  /opt/conda/conda-bld/pytorch_1623448224956/work/c10/core/TensorImpl.h:1156.)\n",
      "  return torch.max_pool1d(input, kernel_size, stride, padding, dilation, ceil_mode)\n"
     ]
    }
   ],
   "source": [
    "in_channels_ = 1\n",
    "num_segments_in_record = 100\n",
    "segment_len = 3600   # 3600 采样\n",
    "num_classes = 17\n",
    "\n",
    "class Flatten(torch.nn.Module):\n",
    "    def forward(self, x):\n",
    "        batch_size = x.shape[0]\n",
    "        return x.view(batch_size, -1)\n",
    "\n",
    "class arrhythmia_classifier(nn.Module):\n",
    "    def __init__(self, in_channels=in_channels_):\n",
    "        super(arrhythmia_classifier, self).__init__()\n",
    "        self.cnn = nn.Sequential(\n",
    "            nn.Conv1d(1,8,16,stride=2,padding=7),\n",
    "            nn.ReLU(),\n",
    "            #nn.BatchNorm1d(8),\n",
    "            nn.MaxPool1d(kernel_size=8,stride=4),\n",
    "   \n",
    "            nn.Conv1d(8,12,12,padding=5,stride=2),\n",
    "            nn.ReLU(),\n",
    "            #nn.BatchNorm1d(16),\n",
    "            nn.MaxPool1d(4,stride=2),\n",
    "            \n",
    "            nn.Conv1d(12,32,9,stride=1,padding=4),\n",
    "            nn.ReLU(),\n",
    "            nn.MaxPool1d(5,stride=2),\n",
    "            \n",
    "            nn.Conv1d(32,64,7,stride=1,padding=3),\n",
    "            nn.ReLU(),\n",
    "            nn.MaxPool1d(4,stride=2),\n",
    "            \n",
    "            nn.Conv1d(64,64,5,stride=1,padding=2),\n",
    "            nn.ReLU(),\n",
    "            nn.MaxPool1d(2,2),\n",
    "            \n",
    "            nn.Conv1d(64,64,3,stride=1,padding=1),\n",
    "            nn.ReLU(),\n",
    "            nn.MaxPool1d(2,2),\n",
    "            \n",
    "            nn.Conv1d(64,72,3,stride=1,padding=1),\n",
    "            nn.ReLU(),\n",
    "            nn.MaxPool1d(2,2),\n",
    "            Flatten(),\n",
    "            nn.Linear(in_features=216, out_features=64),\n",
    "            nn.ReLU(),\n",
    "            nn.Dropout(p=.1),\n",
    "            nn.Linear(in_features=64, out_features=17),\n",
    "        )\n",
    "\n",
    "    def forward(self, x, ex_features=None):\n",
    "        return self.cnn(x)\n",
    "\n",
    "\n",
    "def calc_next_len_conv1d(current_len=112500, kernel_size=16, stride=8, padding=0, dilation=1):\n",
    "    return int(np.floor((current_len + 2 * padding - dilation * (kernel_size - 1) - 1) / stride + 1))\n",
    "device = torch.device(\"cuda\" if torch.cuda.is_available() else \"cpu\")\n",
    "model = arrhythmia_classifier().to(device)\n",
    "from torchsummary import summary\n",
    "summary(model, input_size=(1, 3600))\n",
    "\n",
    "model = torch.load('test_1.pt',map_location='cuda')"
   ]
  },
  {
   "cell_type": "code",
   "execution_count": 5,
   "id": "73630855",
   "metadata": {},
   "outputs": [
    {
     "name": "stdout",
     "output_type": "stream",
     "text": [
      "tensor([ 6,  0,  6,  6,  3,  0,  0,  6, 14, 13, 16,  0,  3, 13,  0,  6],\n",
      "       device='cuda:0')\n",
      "tensor([ 6,  0,  6,  6,  3,  0,  0,  6, 14, 13, 16,  0,  3, 13,  0,  6],\n",
      "       device='cuda:0')\n",
      "tensor([ 0,  6,  0, 16, 13,  6,  0,  0,  0, 16, 13,  3, 13, 14, 13,  0],\n",
      "       device='cuda:0')\n",
      "tensor([ 0,  6,  0, 16, 13,  6,  0,  0,  0, 16, 13,  3, 13, 14, 13,  0],\n",
      "       device='cuda:0')\n",
      "tensor([ 0, 14, 10, 13,  4, 13,  6,  0,  0,  6,  0,  0,  0,  6, 10,  6],\n",
      "       device='cuda:0')\n",
      "tensor([ 0, 14, 10, 13,  4, 13,  6,  0,  0,  6,  0,  0,  0,  6, 10,  6],\n",
      "       device='cuda:0')\n",
      "tensor([ 6,  0, 16,  6,  0,  0, 14,  0,  7,  3, 16, 13,  0,  0,  0,  0],\n",
      "       device='cuda:0')\n",
      "tensor([ 6,  0, 16,  6,  0,  0, 14,  0,  7,  3, 16, 13,  0,  0,  0,  0],\n",
      "       device='cuda:0')\n",
      "tensor([15,  3,  1,  0,  6,  0,  0, 13,  6,  7,  2, 14, 12,  0,  0,  0],\n",
      "       device='cuda:0')\n",
      "tensor([15,  3,  1,  0,  6,  0,  0, 13,  6,  7,  2, 14, 12,  0,  0,  0],\n",
      "       device='cuda:0')\n",
      "tensor([ 5, 12,  0,  1,  3,  0,  5,  6,  8,  3,  7, 16, 13,  0,  0, 14],\n",
      "       device='cuda:0')\n",
      "tensor([ 5, 12,  0,  1,  3,  0,  5,  6,  8,  3,  7, 16, 13,  0,  0, 14],\n",
      "       device='cuda:0')\n",
      "tensor([ 1,  0,  6, 12,  3, 13,  3,  3,  3, 14,  3,  0,  6,  3,  0, 14],\n",
      "       device='cuda:0')\n",
      "tensor([ 1,  0,  6, 12,  3, 13,  3,  3,  3, 14,  3,  0,  6,  3,  0, 14],\n",
      "       device='cuda:0')\n",
      "tensor([13,  5,  0, 13,  9,  6,  4,  0,  6,  0,  6, 12,  0,  1,  4,  0],\n",
      "       device='cuda:0')\n",
      "tensor([13,  5,  0, 13,  9,  6,  4,  0,  6,  0,  6, 12,  0,  1,  4,  0],\n",
      "       device='cuda:0')\n",
      "tensor([ 3, 12,  0,  0,  0,  3,  1,  2,  0, 13, 16,  3,  0,  0,  8, 13],\n",
      "       device='cuda:0')\n",
      "tensor([ 3, 12,  0,  0,  0,  3,  1,  2,  0, 13, 16,  3,  0,  0,  8, 13],\n",
      "       device='cuda:0')\n",
      "tensor([ 0,  0,  0,  0,  0, 14,  7,  0,  0,  6,  0,  3, 13,  3,  0,  1],\n",
      "       device='cuda:0')\n",
      "tensor([ 0,  0,  0,  0,  0, 14,  7,  0,  0,  6,  0,  3, 13,  3,  0,  1],\n",
      "       device='cuda:0')\n",
      "tensor([ 0,  1, 14,  6,  3, 16, 13,  8,  5,  0, 14,  0, 14,  0,  0,  6],\n",
      "       device='cuda:0')\n",
      "tensor([ 0,  1, 14, 12,  3, 16, 13,  8,  5,  0, 14,  0, 14,  0,  0,  6],\n",
      "       device='cuda:0')\n",
      "tensor([ 7, 16,  4,  0,  6, 13,  7,  0,  6, 11,  6,  3,  6,  0, 14, 13],\n",
      "       device='cuda:0')\n",
      "tensor([ 7, 16,  4,  0,  6, 13,  7,  0,  6, 11,  6,  3,  6,  0, 14, 13],\n",
      "       device='cuda:0')\n",
      "tensor([13,  6, 13,  0,  1,  6,  0,  9], device='cuda:0')\n",
      "tensor([13,  6, 13,  0,  1,  6,  0,  9], device='cuda:0')\n",
      "Accuracy on test set: 99 %\n"
     ]
    }
   ],
   "source": [
    "correct = 0\n",
    "total = 0\n",
    "with torch.no_grad():\n",
    "        for data in test_loader:\n",
    "            images, labels = data\n",
    "            outputs = model(images)\n",
    "            _, predicted = torch.max(outputs.data, dim=1)\n",
    "            print(predicted)\n",
    "            print(labels)\n",
    "            total += labels.size(0)\n",
    "            correct += (predicted == labels).sum().item()\n",
    "print('Accuracy on test set: %d %%' % (100 * correct / total))"
   ]
  },
  {
   "cell_type": "code",
   "execution_count": 6,
   "id": "bc11d842",
   "metadata": {},
   "outputs": [],
   "source": [
    "device = torch.device(\"cuda\" if torch.cuda.is_available() else \"cpu\")\n",
    "model = arrhythmia_classifier().to(device)\n",
    "#model.load_state_dict(model_zoo.load_url(model_urls['ecgnet']))\n",
    "#model.load_state_dict(copy.deepcopy(torch.load(\"/mnt/c/Users/12647/Desktop/BitSplit-master/models/test_2.pth\",device)))\n",
    "model = torch.load('test_2.pth')"
   ]
  },
  {
   "cell_type": "code",
   "execution_count": 10,
   "id": "305b48ba",
   "metadata": {},
   "outputs": [
    {
     "data": {
      "text/plain": [
       "<bound method Module.modules of arrhythmia_classifier(\n",
       "  (cnn): Sequential(\n",
       "    (0): Conv1d(1, 8, kernel_size=(16,), stride=(2,), padding=(7,))\n",
       "    (1): ReLU()\n",
       "    (2): MaxPool1d(kernel_size=8, stride=4, padding=0, dilation=1, ceil_mode=False)\n",
       "    (3): Conv1d(8, 12, kernel_size=(12,), stride=(2,), padding=(5,))\n",
       "    (4): ReLU()\n",
       "    (5): MaxPool1d(kernel_size=4, stride=2, padding=0, dilation=1, ceil_mode=False)\n",
       "    (6): Conv1d(12, 32, kernel_size=(9,), stride=(1,), padding=(4,))\n",
       "    (7): ReLU()\n",
       "    (8): MaxPool1d(kernel_size=5, stride=2, padding=0, dilation=1, ceil_mode=False)\n",
       "    (9): Conv1d(32, 64, kernel_size=(7,), stride=(1,), padding=(3,))\n",
       "    (10): ReLU()\n",
       "    (11): MaxPool1d(kernel_size=4, stride=2, padding=0, dilation=1, ceil_mode=False)\n",
       "    (12): Conv1d(64, 64, kernel_size=(5,), stride=(1,), padding=(2,))\n",
       "    (13): ReLU()\n",
       "    (14): MaxPool1d(kernel_size=2, stride=2, padding=0, dilation=1, ceil_mode=False)\n",
       "    (15): Conv1d(64, 64, kernel_size=(3,), stride=(1,), padding=(1,))\n",
       "    (16): ReLU()\n",
       "    (17): MaxPool1d(kernel_size=2, stride=2, padding=0, dilation=1, ceil_mode=False)\n",
       "    (18): Conv1d(64, 72, kernel_size=(3,), stride=(1,), padding=(1,))\n",
       "    (19): ReLU()\n",
       "    (20): MaxPool1d(kernel_size=2, stride=2, padding=0, dilation=1, ceil_mode=False)\n",
       "    (21): Flatten()\n",
       "    (22): Linear(in_features=216, out_features=64, bias=True)\n",
       "    (23): ReLU()\n",
       "    (24): Dropout(p=0.1, inplace=False)\n",
       "    (25): Linear(in_features=64, out_features=17, bias=True)\n",
       "  )\n",
       ")>"
      ]
     },
     "execution_count": 10,
     "metadata": {},
     "output_type": "execute_result"
    }
   ],
   "source": [
    "model.modules"
   ]
  },
  {
   "cell_type": "code",
   "execution_count": 14,
   "id": "01a04aa9",
   "metadata": {},
   "outputs": [
    {
     "data": {
      "text/plain": [
       "Conv1d(1, 8, kernel_size=(16,), stride=(2,), padding=(7,))"
      ]
     },
     "execution_count": 14,
     "metadata": {},
     "output_type": "execute_result"
    }
   ],
   "source": [
    "model.cnn[0]"
   ]
  },
  {
   "cell_type": "code",
   "execution_count": 11,
   "id": "cb760531",
   "metadata": {},
   "outputs": [],
   "source": [
    "import argparse\n",
    "import os\n",
    "import scipy.io as scio\n",
    "from sklearn.model_selection import train_test_split\n",
    "import torch\n",
    "import torch.nn as nn\n",
    "from torch.nn import functional as F\n",
    "from torch.autograd import Variable\n",
    "from torch.utils.data import Dataset, DataLoader\n",
    "from torchvision import transforms\n",
    "import torch.optim as optim\n",
    "import math\n",
    "from torchvision import datasets, transforms \n",
    "import numpy as np\n",
    "\n",
    "# Defining the network (ECGNet5)  \n",
    "in_channels_ = 1\n",
    "num_segments_in_record = 100\n",
    "segment_len = 3600   # 3600 采样\n",
    "num_classes = 17\n",
    "def normalization(data):\n",
    "    _range = np.max(data) - np.min(data)\n",
    "    return (data - np.min(data)) / _range\n",
    "        \n",
    "def standardization(data):\n",
    "    mu = np.mean(data, axis=0)\n",
    "    sigma = np.std(data, axis=0)\n",
    "    return (data - mu) / sigma\n",
    "\n",
    "class ECGNet(nn.Module):\n",
    "    def __init__(self, in_channels=in_channels_):\n",
    "        super(ECGNet, self).__init__()\n",
    "        self.features = nn.Sequential(\n",
    "            nn.Conv1d(1,8,16,stride=2,padding=7),\n",
    "            nn.ReLU(),\n",
    "            #nn.BatchNorm1d(8),\n",
    "            nn.MaxPool1d(kernel_size=8,stride=4),\n",
    "   \n",
    "            nn.Conv1d(8,12,12,padding=5,stride=2),\n",
    "            nn.ReLU(),\n",
    "            #nn.BatchNorm1d(16),\n",
    "            nn.MaxPool1d(4,stride=2),\n",
    "            \n",
    "            nn.Conv1d(12,32,9,stride=1,padding=4),\n",
    "            nn.ReLU(),\n",
    "            nn.MaxPool1d(5,stride=2),\n",
    "            \n",
    "            nn.Conv1d(32,64,7,stride=1,padding=3),\n",
    "            nn.ReLU(),\n",
    "            nn.MaxPool1d(4,stride=2),\n",
    "            \n",
    "            nn.Conv1d(64,64,5,stride=1,padding=2),\n",
    "            nn.ReLU(),\n",
    "            nn.MaxPool1d(2,2),\n",
    "            \n",
    "            nn.Conv1d(64,64,3,stride=1,padding=1),\n",
    "            nn.ReLU(),\n",
    "            nn.MaxPool1d(2,2),\n",
    "            \n",
    "            nn.Conv1d(64,72,3,stride=1,padding=1),\n",
    "            nn.ReLU(),\n",
    "            nn.MaxPool1d(2,2),\n",
    "        )\n",
    "        self.classifier = torch.nn.Sequential(\n",
    "            nn.Linear(in_features=216, out_features=64),\n",
    "            nn.ReLU(),\n",
    "            nn.Dropout(p=.1),\n",
    "            nn.Linear(in_features=64, out_features=17),\n",
    "        )\n",
    "\n",
    "    def forward(self, x, ex_features=None):\n",
    "        x = self.features(x)\n",
    "        x = x.view((-1,216))\n",
    "        x = self.classifier(x)\n",
    "        return x"
   ]
  },
  {
   "cell_type": "code",
   "execution_count": 12,
   "id": "d794555c",
   "metadata": {},
   "outputs": [
    {
     "data": {
      "text/plain": [
       "odict_keys(['features.0.weight', 'features.0.bias', 'features.3.weight', 'features.3.bias', 'features.6.weight', 'features.6.bias', 'features.9.weight', 'features.9.bias', 'features.12.weight', 'features.12.bias', 'features.15.weight', 'features.15.bias', 'features.18.weight', 'features.18.bias', 'classifier.0.weight', 'classifier.0.bias', 'classifier.3.weight', 'classifier.3.bias'])"
      ]
     },
     "execution_count": 12,
     "metadata": {},
     "output_type": "execute_result"
    }
   ],
   "source": [
    "model = ECGNet()\n",
    "torch.load('ECGNet_model_q_afterALQ.pth', map_location='cuda:0')\n",
    "model.state_dict().keys()"
   ]
  },
  {
   "cell_type": "code",
   "execution_count": 17,
   "id": "bf8cd55c",
   "metadata": {
    "scrolled": true
   },
   "outputs": [
    {
     "data": {
      "text/plain": [
       "Parameter containing:\n",
       "tensor([[[-2.6150e-02,  2.2894e-01, -2.4367e-01, -1.8448e-01, -5.2056e-03,\n",
       "          -8.5770e-02, -2.3706e-01, -1.7912e-01, -4.3234e-03,  1.6652e-01,\n",
       "           2.0879e-01, -3.6225e-02, -1.8855e-01,  2.1229e-01,  2.2932e-02,\n",
       "           1.6572e-01]],\n",
       "\n",
       "        [[ 1.7555e-01, -1.8185e-01,  1.3667e-01,  2.4866e-01,  2.1876e-01,\n",
       "          -1.0856e-01, -3.3790e-02, -1.1002e-01, -5.3112e-02,  1.6241e-02,\n",
       "          -2.2068e-01,  2.1948e-01, -5.9755e-02, -1.1264e-01,  2.4198e-01,\n",
       "           1.7870e-01]],\n",
       "\n",
       "        [[ 1.8299e-01,  1.4155e-01, -3.4022e-02,  1.0062e-01,  1.7809e-01,\n",
       "           6.1774e-02, -1.6179e-01,  1.7261e-01, -1.5591e-02, -1.6243e-01,\n",
       "           4.0885e-02, -2.4498e-01,  2.1103e-01, -1.1434e-01,  1.3872e-01,\n",
       "           8.8290e-02]],\n",
       "\n",
       "        [[-6.6363e-02,  1.5490e-01,  6.7869e-02, -6.0182e-02, -1.8889e-02,\n",
       "           7.9395e-02, -2.4054e-01,  2.2019e-01, -1.7307e-01, -2.3450e-03,\n",
       "          -1.1531e-01, -1.2296e-01,  2.3025e-01,  2.6988e-02,  1.4682e-01,\n",
       "           2.1848e-01]],\n",
       "\n",
       "        [[ 1.9095e-01, -1.2345e-01, -2.4075e-01, -1.7167e-02, -2.4995e-01,\n",
       "           2.2091e-01,  2.7237e-02,  1.3289e-01, -1.6193e-01, -2.4759e-01,\n",
       "          -1.1051e-01,  1.0306e-02, -1.7700e-01,  1.1267e-01,  5.0157e-02,\n",
       "          -2.2201e-03]],\n",
       "\n",
       "        [[ 4.6252e-02, -2.0455e-02,  1.7106e-01, -5.7401e-02,  2.0510e-01,\n",
       "           1.3413e-01,  1.0024e-01,  9.8959e-02, -1.3281e-01,  7.1967e-02,\n",
       "           1.0550e-01, -1.1934e-01,  1.4892e-01,  7.5103e-02, -2.0448e-01,\n",
       "           1.0008e-01]],\n",
       "\n",
       "        [[ 1.0666e-04, -3.9541e-02,  1.3688e-01,  9.9533e-02,  2.0961e-01,\n",
       "           9.4672e-02,  1.8172e-01,  8.1122e-02,  1.9884e-02,  8.2355e-02,\n",
       "          -2.3565e-02, -7.8532e-02,  1.9504e-01, -9.9397e-02, -6.3487e-02,\n",
       "           1.2917e-01]],\n",
       "\n",
       "        [[-7.8706e-02,  1.0785e-02,  1.3240e-01, -2.3519e-01,  1.8891e-01,\n",
       "          -2.2706e-01,  1.0048e-01, -2.0684e-01,  8.0620e-02, -1.6104e-01,\n",
       "           6.2580e-02,  1.6593e-01, -1.6959e-01,  1.2719e-01, -1.4328e-02,\n",
       "           7.4559e-02]]], requires_grad=True)"
      ]
     },
     "execution_count": 17,
     "metadata": {},
     "output_type": "execute_result"
    }
   ],
   "source": [
    "model.features[0].weight"
   ]
  },
  {
   "cell_type": "code",
   "execution_count": null,
   "id": "ee010a53",
   "metadata": {},
   "outputs": [],
   "source": []
  }
 ],
 "metadata": {
  "kernelspec": {
   "display_name": "Python 3 (ipykernel)",
   "language": "python",
   "name": "python3"
  },
  "language_info": {
   "codemirror_mode": {
    "name": "ipython",
    "version": 3
   },
   "file_extension": ".py",
   "mimetype": "text/x-python",
   "name": "python",
   "nbconvert_exporter": "python",
   "pygments_lexer": "ipython3",
   "version": "3.7.11"
  }
 },
 "nbformat": 4,
 "nbformat_minor": 5
}

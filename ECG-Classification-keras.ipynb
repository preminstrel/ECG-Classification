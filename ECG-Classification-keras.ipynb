{
 "cells": [
  {
   "cell_type": "markdown",
   "metadata": {},
   "source": [
    "# ECG-Classification-keras\n",
    "#### @based-on https://github.com/SEU-wzx/ECGAI_1D-CNN.git"
   ]
  },
  {
   "cell_type": "markdown",
   "metadata": {},
   "source": [
    "## Import Packages"
   ]
  },
  {
   "cell_type": "code",
   "execution_count": 26,
   "metadata": {},
   "outputs": [],
   "source": [
    "import tensorflow as tf\n",
    "import tensorflow.keras as keras\n",
    "\n",
    "import random\n",
    "import numpy as np\n",
    "import scipy.io as scio\n",
    "import pandas as pd\n",
    "import os\n",
    "import collections\n",
    "from matplotlib import pyplot as plt\n",
    "\n",
    "from keras import optimizers\n",
    "from keras.models import Model, Sequential\n",
    "from keras.optimizers import Adam, SGD, RMSprop\n",
    "from keras.layers import Dense, Dropout, Activation, Flatten, Input\n",
    "from keras.layers import Conv1D, BatchNormalization, MaxPooling1D\n",
    "from keras.utils import to_categorical\n",
    "\n",
    "from sklearn.model_selection import train_test_split"
   ]
  },
  {
   "cell_type": "markdown",
   "metadata": {},
   "source": [
    "## Set Path"
   ]
  },
  {
   "cell_type": "code",
   "execution_count": 27,
   "metadata": {},
   "outputs": [],
   "source": [
    "base_path = './'\n",
    "dataset_path =  './Dataset' # Training data"
   ]
  },
  {
   "cell_type": "markdown",
   "metadata": {},
   "source": [
    "## Plot Settings"
   ]
  },
  {
   "cell_type": "code",
   "execution_count": 28,
   "metadata": {},
   "outputs": [],
   "source": [
    "plt.rcParams[\"figure.figsize\"] = (15,5)\n",
    "plt.rcParams['lines.linewidth'] = 2\n",
    "plt.rcParams['lines.color'] = 'b'\n",
    "plt.rcParams['axes.grid'] = True"
   ]
  },
  {
   "cell_type": "markdown",
   "metadata": {},
   "source": [
    "## Data Process"
   ]
  },
  {
   "cell_type": "code",
   "execution_count": 29,
   "metadata": {},
   "outputs": [],
   "source": [
    "# Variables\n",
    "\n",
    "classes = ['NSR', 'APB', 'AFL', 'AFIB', 'SVTA', 'WPW','PVC', 'Bigeminy', 'Trigeminy', \n",
    "           'VT', 'IVR', 'VFL', 'Fusion', 'LBBBB', 'RBBBB', 'SDHB', 'PR']\n",
    "ClassesNum = len(classes)\n",
    "\n",
    "X = list()\n",
    "y = list()\n",
    "\n",
    "for root, dirs, files in os.walk(dataset_path, topdown=False):\n",
    "    for name in files:\n",
    "        data_train = scio.loadmat(os.path.join(root, name))# 取出字典里的value\n",
    "        \n",
    "        # arr -> list\n",
    "        data_arr = data_train.get('val')\n",
    "        data_list = data_arr.tolist()\n",
    "        \n",
    "        X.append(data_list[0]) # [[……]] -> [ ]\n",
    "        y.append(int(os.path.basename(root)[0:2]) - 1)  # name -> num"
   ]
  },
  {
   "cell_type": "markdown",
   "metadata": {},
   "source": [
    "## Layers"
   ]
  },
  {
   "cell_type": "code",
   "execution_count": 30,
   "metadata": {},
   "outputs": [],
   "source": [
    "def nn_base(Unit, Kernel, Conv_Stride, Maxpool_Stride, input_tensor = None):\n",
    "    \n",
    "    input_shape = (None, 3)\n",
    "\n",
    "    ecg_input = input_tensor\n",
    "\n",
    "    bn_axis = 3\n",
    "\n",
    "    # nn_base\n",
    "    x = Conv1D(filters = Unit, kernel_size = Kernel, padding = 'same', strides = Conv_Stride, activation = 'relu', \n",
    "               data_format='channels_last')(ecg_input)\n",
    "    \n",
    "    x = BatchNormalization()(x)\n",
    "    \n",
    "    x = MaxPooling1D(pool_size = 2, strides = Maxpool_Stride, padding = 'same', \n",
    "                     data_format='channels_last')(x)\n",
    "\n",
    "    return x"
   ]
  },
  {
   "cell_type": "code",
   "execution_count": 31,
   "metadata": {},
   "outputs": [],
   "source": [
    "def classifier_layer(base_layer, dropout_rate = 0.1, ClassesNum = 17):\n",
    "    \n",
    "    # classifier layers\n",
    "    x = Conv1D(filters = 32, kernel_size = 10, padding = 'same', activation = 'relu', \n",
    "               name = 'classifier_layer_Conv1D1', data_format='channels_last')(base_layer)\n",
    "    \n",
    "    x = Conv1D(filters = 128, kernel_size = 5, padding = 'same', activation = 'relu', \n",
    "               strides = 2, name = 'classifier_layer_Conv1D2', data_format='channels_last')(x)\n",
    "    \n",
    "    x = MaxPooling1D(pool_size = 2, strides = 2, padding = 'same', \n",
    "                     name = 'classifier_layer_MaxPooling1D1', data_format='channels_last')(x)\n",
    "    \n",
    "    x = Conv1D(filters = 256, kernel_size = 15, padding = 'same', activation = 'relu', \n",
    "               name = 'classifier_layer_Conv1D3', data_format='channels_last')(x)\n",
    "    \n",
    "    x = MaxPooling1D(pool_size = 2, strides = 2, padding = 'same', \n",
    "                     name = 'classifier_layer_MaxPooling1D2', data_format='channels_last')(x)\n",
    "    \n",
    "    x = Conv1D(filters = 512, kernel_size = 5, padding = 'same', activation = 'relu', \n",
    "               name = 'classifier_layer_Conv1D4', data_format='channels_last')(x)\n",
    "    \n",
    "    x = Conv1D(filters = 128, kernel_size = 3, padding = 'same', activation = 'relu', \n",
    "               name = 'classifier_layer_Conv1D5', data_format='channels_last')(x)\n",
    "    \n",
    "    \n",
    "    x = Flatten(name = 'classifier_layer_Flatten')(x)\n",
    "    x = Dense(units = 512, activation = 'relu', name = 'classifier_layer_Dense1')(x)\n",
    "    x = Dropout(rate = dropout_rate, name = 'classifier_layer_Dropout')(x)\n",
    "    x = Dense(units = ClassesNum, activation = 'softmax', name = 'classifier_layer_Dense2')(x)\n",
    "    \n",
    "    return x"
   ]
  },
  {
   "cell_type": "markdown",
   "metadata": {},
   "source": [
    "## Dataset Check"
   ]
  },
  {
   "cell_type": "code",
   "execution_count": 32,
   "metadata": {},
   "outputs": [
    {
     "name": "stdout",
     "output_type": "stream",
     "text": [
      "total num of training data :  1000\n",
      "X_train :  800\n",
      "X_test  :  200\n",
      "y_train :  Counter({0: 229, 3: 106, 6: 103, 13: 79, 1: 55, 14: 52, 7: 45, 16: 36, 5: 16, 2: 15, 4: 13, 8: 11, 12: 9, 15: 8, 11: 8, 10: 8, 9: 7})\n",
      "y_test  :  Counter({0: 54, 6: 30, 3: 29, 13: 24, 1: 11, 7: 10, 14: 10, 16: 9, 5: 5, 2: 5, 9: 3, 11: 2, 15: 2, 8: 2, 10: 2, 12: 2})\n",
      "shape of X_train :  (3600,)\n",
      "shape of y_train :  (800,)\n",
      "shape of X_test :  (200, 3600)\n",
      "shape of y_test :  (200,)\n"
     ]
    }
   ],
   "source": [
    "# list -> arr\n",
    "X=np.array(X)\n",
    "y=np.array(y)\n",
    "\n",
    "print(\"total num of training data : \", len(X))\n",
    "\n",
    "# get X_train, X_test, y_train, y_test \n",
    "X_train, X_test, y_train, y_test = train_test_split(X, y, test_size=0.2)\n",
    "\n",
    "print(\"X_train : \", len(X_train))\n",
    "print(\"X_test  : \", len(X_test))\n",
    "print(\"y_train : \", collections.Counter(y_train))\n",
    "print(\"y_test  : \", collections.Counter(y_test))\n",
    "print(\"shape of X_train : \", np.shape(X_train[0]))\n",
    "print(\"shape of y_train : \", np.shape(y_train))\n",
    "print(\"shape of X_test : \", np.shape(X_test))\n",
    "print(\"shape of y_test : \", np.shape(y_test))"
   ]
  },
  {
   "cell_type": "markdown",
   "metadata": {},
   "source": [
    "## Model Graph"
   ]
  },
  {
   "cell_type": "code",
   "execution_count": 33,
   "metadata": {},
   "outputs": [
    {
     "name": "stdout",
     "output_type": "stream",
     "text": [
      "Model: \"model_1\"\n",
      "_________________________________________________________________\n",
      "Layer (type)                 Output Shape              Param #   \n",
      "=================================================================\n",
      "input_2 (InputLayer)         [(None, 3600, 1)]         0         \n",
      "_________________________________________________________________\n",
      "conv1d_2 (Conv1D)            (None, 1200, 128)         6528      \n",
      "_________________________________________________________________\n",
      "batch_normalization_2 (Batch (None, 1200, 128)         512       \n",
      "_________________________________________________________________\n",
      "max_pooling1d_2 (MaxPooling1 (None, 400, 128)          0         \n",
      "_________________________________________________________________\n",
      "conv1d_3 (Conv1D)            (None, 400, 32)           28704     \n",
      "_________________________________________________________________\n",
      "batch_normalization_3 (Batch (None, 400, 32)           128       \n",
      "_________________________________________________________________\n",
      "max_pooling1d_3 (MaxPooling1 (None, 200, 32)           0         \n",
      "_________________________________________________________________\n",
      "classifier_layer_Conv1D1 (Co (None, 200, 32)           10272     \n",
      "_________________________________________________________________\n",
      "classifier_layer_Conv1D2 (Co (None, 100, 128)          20608     \n",
      "_________________________________________________________________\n",
      "classifier_layer_MaxPooling1 (None, 50, 128)           0         \n",
      "_________________________________________________________________\n",
      "classifier_layer_Conv1D3 (Co (None, 50, 256)           491776    \n",
      "_________________________________________________________________\n",
      "classifier_layer_MaxPooling1 (None, 25, 256)           0         \n",
      "_________________________________________________________________\n",
      "classifier_layer_Conv1D4 (Co (None, 25, 512)           655872    \n",
      "_________________________________________________________________\n",
      "classifier_layer_Conv1D5 (Co (None, 25, 128)           196736    \n",
      "_________________________________________________________________\n",
      "classifier_layer_Flatten (Fl (None, 3200)              0         \n",
      "_________________________________________________________________\n",
      "classifier_layer_Dense1 (Den (None, 512)               1638912   \n",
      "_________________________________________________________________\n",
      "classifier_layer_Dropout (Dr (None, 512)               0         \n",
      "_________________________________________________________________\n",
      "classifier_layer_Dense2 (Den (None, 17)                8721      \n",
      "=================================================================\n",
      "Total params: 3,058,769\n",
      "Trainable params: 3,058,449\n",
      "Non-trainable params: 320\n",
      "_________________________________________________________________\n",
      "None\n"
     ]
    }
   ],
   "source": [
    "input_ecg = Input(shape=(3600,1))\n",
    "x = nn_base(128, 50, Conv_Stride = 3, Maxpool_Stride = 3, input_tensor = input_ecg)\n",
    "x = nn_base(32, 7, Conv_Stride = 1, Maxpool_Stride = 2, input_tensor = x)\n",
    "output_ecg = classifier_layer(x, dropout_rate = 0.1, ClassesNum = 17)\n",
    "model_m = Model(input_ecg, output_ecg)\n",
    "print(model_m.summary())"
   ]
  },
  {
   "cell_type": "markdown",
   "metadata": {},
   "source": [
    "## Settings optimizers & compile"
   ]
  },
  {
   "cell_type": "code",
   "execution_count": 34,
   "metadata": {},
   "outputs": [
    {
     "data": {
      "text/plain": [
       "(800, 3600, 1)"
      ]
     },
     "metadata": {},
     "output_type": "display_data"
    }
   ],
   "source": [
    "# setting optimizers & compile\n",
    "optimizers.Adam(lr = 0.002, beta_1 = 0.9, beta_2 = 0.999, epsilon = None, decay = 0.0, amsgrad = False)\n",
    "# model_all.compile(optimizer = 'adam', loss = 'categorical_crossentropy', metrics = ['accuracy'])\n",
    "model_m.compile(optimizer = 'adam', loss = 'categorical_crossentropy', metrics = ['accuracy'])\n",
    "\n",
    "# expand X_train dims\n",
    "X_train = np.expand_dims(X_train, axis=2)\n",
    "X_test = np.reshape(X_test, (np.shape(X_test)[0], np.shape(X_test)[1], 1))\n",
    "# Y : int -> binary (one-hot)\n",
    "y_train = to_categorical(y_train,num_classes = ClassesNum)\n",
    "y_test = to_categorical(y_test,num_classes = ClassesNum)\n",
    "\n",
    "display(np.shape(X_train))"
   ]
  },
  {
   "cell_type": "markdown",
   "metadata": {},
   "source": [
    "## Train"
   ]
  },
  {
   "cell_type": "code",
   "execution_count": 35,
   "metadata": {},
   "outputs": [
    {
     "name": "stdout",
     "output_type": "stream",
     "text": [
      "Epoch 1/50\n",
      "50/50 [==============================] - 4s 60ms/step - loss: 2.5052 - accuracy: 0.2086\n",
      "Epoch 2/50\n",
      "50/50 [==============================] - 3s 62ms/step - loss: 2.0856 - accuracy: 0.2941\n",
      "Epoch 3/50\n",
      "50/50 [==============================] - 3s 60ms/step - loss: 1.8408 - accuracy: 0.4269\n",
      "Epoch 4/50\n",
      "50/50 [==============================] - 3s 61ms/step - loss: 1.7145 - accuracy: 0.4703\n",
      "Epoch 5/50\n",
      "50/50 [==============================] - 3s 61ms/step - loss: 1.1910 - accuracy: 0.6394\n",
      "Epoch 6/50\n",
      "50/50 [==============================] - 3s 63ms/step - loss: 1.0311 - accuracy: 0.6698\n",
      "Epoch 7/50\n",
      "50/50 [==============================] - 3s 61ms/step - loss: 0.7931 - accuracy: 0.7628\n",
      "Epoch 8/50\n",
      "50/50 [==============================] - 4s 71ms/step - loss: 0.5783 - accuracy: 0.8120\n",
      "Epoch 9/50\n",
      "50/50 [==============================] - 3s 66ms/step - loss: 0.4565 - accuracy: 0.8564\n",
      "Epoch 10/50\n",
      "50/50 [==============================] - 3s 63ms/step - loss: 1.0009 - accuracy: 0.8085\n",
      "Epoch 11/50\n",
      "50/50 [==============================] - 3s 63ms/step - loss: 0.4598 - accuracy: 0.8413\n",
      "Epoch 12/50\n",
      "50/50 [==============================] - 3s 62ms/step - loss: 0.3299 - accuracy: 0.8877\n",
      "Epoch 13/50\n",
      "50/50 [==============================] - 3s 61ms/step - loss: 0.1622 - accuracy: 0.9511\n",
      "Epoch 14/50\n",
      "50/50 [==============================] - 3s 62ms/step - loss: 0.2152 - accuracy: 0.9357\n",
      "Epoch 15/50\n",
      "50/50 [==============================] - 3s 64ms/step - loss: 0.2362 - accuracy: 0.9391\n",
      "Epoch 16/50\n",
      "50/50 [==============================] - 4s 70ms/step - loss: 0.2213 - accuracy: 0.9402\n",
      "Epoch 17/50\n",
      "50/50 [==============================] - 3s 68ms/step - loss: 0.0611 - accuracy: 0.9754\n",
      "Epoch 18/50\n",
      "50/50 [==============================] - 3s 65ms/step - loss: 0.0273 - accuracy: 0.9931\n",
      "Epoch 19/50\n",
      "50/50 [==============================] - 3s 63ms/step - loss: 0.0301 - accuracy: 0.9913\n",
      "Epoch 20/50\n",
      "50/50 [==============================] - 3s 63ms/step - loss: 0.0894 - accuracy: 0.9713\n",
      "Epoch 21/50\n",
      "50/50 [==============================] - 3s 65ms/step - loss: 0.0420 - accuracy: 0.9909\n",
      "Epoch 22/50\n",
      "50/50 [==============================] - 3s 63ms/step - loss: 0.1680 - accuracy: 0.9535\n",
      "Epoch 23/50\n",
      "50/50 [==============================] - 3s 67ms/step - loss: 0.1333 - accuracy: 0.9677\n",
      "Epoch 24/50\n",
      "50/50 [==============================] - 3s 68ms/step - loss: 0.1142 - accuracy: 0.9705\n",
      "Epoch 25/50\n",
      "50/50 [==============================] - 3s 62ms/step - loss: 0.1328 - accuracy: 0.9721\n",
      "Epoch 26/50\n",
      "50/50 [==============================] - 3s 65ms/step - loss: 0.0465 - accuracy: 0.9882\n",
      "Epoch 27/50\n",
      "50/50 [==============================] - 3s 62ms/step - loss: 0.0954 - accuracy: 0.9782\n",
      "Epoch 28/50\n",
      "50/50 [==============================] - 3s 64ms/step - loss: 0.0375 - accuracy: 0.9899\n",
      "Epoch 29/50\n",
      "50/50 [==============================] - 3s 65ms/step - loss: 0.0129 - accuracy: 0.9956\n",
      "Epoch 30/50\n",
      "50/50 [==============================] - 3s 63ms/step - loss: 0.0433 - accuracy: 0.9880\n",
      "Epoch 31/50\n",
      "50/50 [==============================] - 3s 62ms/step - loss: 0.0878 - accuracy: 0.9783\n",
      "Epoch 32/50\n",
      "50/50 [==============================] - 3s 63ms/step - loss: 0.1392 - accuracy: 0.9731\n",
      "Epoch 33/50\n",
      "50/50 [==============================] - 3s 65ms/step - loss: 0.0953 - accuracy: 0.9740\n",
      "Epoch 34/50\n",
      "50/50 [==============================] - 3s 66ms/step - loss: 0.0455 - accuracy: 0.9904\n",
      "Epoch 35/50\n",
      "50/50 [==============================] - 3s 63ms/step - loss: 0.1323 - accuracy: 0.9727\n",
      "Epoch 36/50\n",
      "50/50 [==============================] - 3s 65ms/step - loss: 0.1149 - accuracy: 0.9662\n",
      "Epoch 37/50\n",
      "50/50 [==============================] - 3s 64ms/step - loss: 0.0678 - accuracy: 0.9771\n",
      "Epoch 38/50\n",
      "50/50 [==============================] - 3s 62ms/step - loss: 0.0793 - accuracy: 0.9853\n",
      "Epoch 39/50\n",
      "50/50 [==============================] - 3s 62ms/step - loss: 0.1720 - accuracy: 0.9609\n",
      "Epoch 40/50\n",
      "50/50 [==============================] - 3s 64ms/step - loss: 0.1403 - accuracy: 0.9745\n",
      "Epoch 41/50\n",
      "50/50 [==============================] - 3s 64ms/step - loss: 0.0569 - accuracy: 0.9963\n",
      "Epoch 42/50\n",
      "50/50 [==============================] - 3s 65ms/step - loss: 0.0223 - accuracy: 0.9930\n",
      "Epoch 43/50\n",
      "50/50 [==============================] - 3s 67ms/step - loss: 0.0066 - accuracy: 0.9988\n",
      "Epoch 44/50\n",
      "50/50 [==============================] - 3s 65ms/step - loss: 0.0012 - accuracy: 0.9998\n",
      "Epoch 45/50\n",
      "50/50 [==============================] - 3s 65ms/step - loss: 0.0024 - accuracy: 0.9991\n",
      "Epoch 46/50\n",
      "50/50 [==============================] - 3s 63ms/step - loss: 0.0073 - accuracy: 0.9987\n",
      "Epoch 47/50\n",
      "50/50 [==============================] - 3s 64ms/step - loss: 0.0747 - accuracy: 0.9928\n",
      "Epoch 48/50\n",
      "50/50 [==============================] - 3s 62ms/step - loss: 0.0634 - accuracy: 0.9756\n",
      "Epoch 49/50\n",
      "50/50 [==============================] - 3s 64ms/step - loss: 0.0097 - accuracy: 0.9953\n",
      "Epoch 50/50\n",
      "50/50 [==============================] - 3s 63ms/step - loss: 0.0099 - accuracy: 0.9975\n"
     ]
    }
   ],
   "source": [
    "BATCH_SIZE = 16\n",
    "EPOCHS = 50\n",
    "# history = model_all.fit(X_train, y_train, batch_size = BATCH_SIZE, epochs = EPOCHS)\n",
    "history = model_m.fit(X_train, y_train, batch_size = BATCH_SIZE, epochs = EPOCHS)"
   ]
  },
  {
   "cell_type": "markdown",
   "metadata": {},
   "source": [
    "## Accuracy & Loss"
   ]
  },
  {
   "cell_type": "code",
   "execution_count": 36,
   "metadata": {},
   "outputs": [
    {
     "name": "stdout",
     "output_type": "stream",
     "text": [
      "dict_keys(['loss', 'accuracy'])\n",
      "[2.3427681922912598, 1.987329363822937, 1.8014400005340576, 1.570601463317871, 1.1937501430511475, 0.9508256316184998, 0.7323182821273804, 0.5376643538475037, 0.43714767694473267, 0.634662389755249, 0.41646748781204224, 0.2598732113838196, 0.23570387065410614, 0.2677004635334015, 0.24970975518226624, 0.21525247395038605, 0.061090197414159775, 0.02419392764568329, 0.04541950300335884, 0.06796840578317642, 0.05183608829975128, 0.19305258989334106, 0.18832620978355408, 0.141054168343544, 0.179421067237854, 0.057491205632686615, 0.12991838157176971, 0.02059420756995678, 0.03728552907705307, 0.0608806274831295, 0.088812455534935, 0.1778213381767273, 0.13194577395915985, 0.09370153397321701, 0.15467923879623413, 0.11657112836837769, 0.06906001269817352, 0.0918152704834938, 0.1402265578508377, 0.09574760496616364, 0.070820152759552, 0.021018320694565773, 0.008861133828759193, 0.002811494516208768, 0.005491629708558321, 0.011182371526956558, 0.20539125800132751, 0.033766187727451324, 0.006608829367905855, 0.006355890538543463]\n",
      "[0.2574999928474426, 0.33000001311302185, 0.4437499940395355, 0.5012500286102295, 0.6349999904632568, 0.7037500143051147, 0.7875000238418579, 0.831250011920929, 0.8575000166893005, 0.8487499952316284, 0.8675000071525574, 0.9162499904632568, 0.925000011920929, 0.9287499785423279, 0.9300000071525574, 0.9412500262260437, 0.9787499904632568, 0.9937499761581421, 0.987500011920929, 0.9787499904632568, 0.987500011920929, 0.9524999856948853, 0.9587500095367432, 0.9624999761581421, 0.9612500071525574, 0.987500011920929, 0.9700000286102295, 0.9962499737739563, 0.9862499833106995, 0.9825000166893005, 0.9800000190734863, 0.9587500095367432, 0.9624999761581421, 0.9862499833106995, 0.9662500023841858, 0.9649999737739563, 0.981249988079071, 0.981249988079071, 0.9599999785423279, 0.9787499904632568, 0.9937499761581421, 0.9950000047683716, 0.9975000023841858, 0.9987499713897705, 0.9975000023841858, 0.9975000023841858, 0.9800000190734863, 0.987500011920929, 0.9962499737739563, 0.9987499713897705]\n"
     ]
    }
   ],
   "source": [
    "print(history.history.keys())\n",
    "print(history.history['loss'])\n",
    "print(history.history['accuracy'])"
   ]
  },
  {
   "cell_type": "markdown",
   "metadata": {},
   "source": [
    "## Plot"
   ]
  },
  {
   "cell_type": "code",
   "execution_count": 37,
   "metadata": {},
   "outputs": [
    {
     "data": {
      "text/plain": [
       "Text(0.5, 1.0, 'acc')"
      ]
     },
     "execution_count": 37,
     "metadata": {},
     "output_type": "execute_result"
    },
    {
     "data": {
      "image/png": "[encoded data removed]",
      "text/plain": [
       "<Figure size 1080x360 with 2 Axes>"
      ]
     },
     "metadata": {
      "needs_background": "light"
     },
     "output_type": "display_data"
    }
   ],
   "source": [
    "\n",
    "# put into df\n",
    "record_arr = np.array([history.history['loss'][0], history.history['accuracy'][0]])\n",
    "for i in range(1, EPOCHS):\n",
    "    new_row = np.array([history.history['loss'][i], history.history['accuracy'][i]])\n",
    "    record_arr = np.row_stack((record_arr, new_row))\n",
    "    \n",
    "record_df = pd.DataFrame(record_arr, columns=[\"loss\", \"acc\"])\n",
    "\n",
    "#print curve\n",
    "plt.subplot(1,2,1)\n",
    "plt.plot(np.arange(0, EPOCHS), record_df[\"loss\"], 'r')\n",
    "plt.title('loss')\n",
    "plt.subplot(1,2,2)\n",
    "plt.plot(np.arange(0, EPOCHS), record_df[\"acc\"], 'r')\n",
    "plt.title('acc')"
   ]
  },
  {
   "cell_type": "code",
   "execution_count": 38,
   "metadata": {},
   "outputs": [
    {
     "name": "stdout",
     "output_type": "stream",
     "text": [
      "13/13 [==============================] - 0s 10ms/step - loss: 1.4988 - accuracy: 0.8700\n",
      "loss of val :  1.4987688064575195\n",
      "acc of val :  0.8700000047683716\n"
     ]
    }
   ],
   "source": [
    "# val_loss_acc = model_all.evaluate(X_test, y_test, batch_size=100)\n",
    "val_loss_acc = model_m.evaluate(X_test, y_test, batch_size = 16)\n",
    "print(\"loss of val : \", val_loss_acc[0])\n",
    "print(\"acc of val : \", val_loss_acc[1])"
   ]
  },
  {
   "cell_type": "markdown",
   "metadata": {},
   "source": [
    "## Predict"
   ]
  },
  {
   "cell_type": "code",
   "execution_count": 39,
   "metadata": {},
   "outputs": [
    {
     "data": {
      "text/plain": [
       "array([[2.5013323e-14, 3.4530350e-17, 6.5172437e-22, ..., 6.4317722e-12,\n",
       "        1.0628542e-18, 1.8647772e-10],\n",
       "       [6.0818005e-05, 9.9991202e-01, 4.0590675e-07, ..., 1.2829905e-06,\n",
       "        3.2782484e-07, 2.9312861e-11],\n",
       "       [9.9999547e-01, 1.8636602e-08, 1.6344225e-09, ..., 3.1383067e-08,\n",
       "        4.1585042e-14, 1.8359708e-12],\n",
       "       ...,\n",
       "       [6.4464257e-06, 4.1267743e-08, 1.9272330e-10, ..., 2.7586259e-08,\n",
       "        1.3409931e-10, 8.0808647e-08],\n",
       "       [9.9999130e-01, 1.8465886e-10, 3.2713932e-11, ..., 1.9975945e-10,\n",
       "        3.1037309e-16, 5.5864499e-14],\n",
       "       [1.4074861e-10, 1.9034491e-18, 1.2643538e-24, ..., 1.0000000e+00,\n",
       "        1.1076470e-22, 1.2229815e-08]], dtype=float32)"
      ]
     },
     "metadata": {},
     "output_type": "display_data"
    }
   ],
   "source": [
    "# predictions = model_all.predict(X_test)\n",
    "predictions = model_m.predict(X_test)\n",
    "display(predictions)"
   ]
  },
  {
   "cell_type": "code",
   "execution_count": null,
   "metadata": {},
   "outputs": [],
   "source": []
  }
 ],
 "metadata": {
  "kernelspec": {
   "display_name": "Python 3",
   "language": "python",
   "name": "python3"
  },
  "language_info": {
   "codemirror_mode": {
    "name": "ipython",
    "version": 3
   },
   "file_extension": ".py",
   "mimetype": "text/x-python",
   "name": "python",
   "nbconvert_exporter": "python",
   "pygments_lexer": "ipython3",
   "version": "3.8.5"
  }
 },
 "nbformat": 4,
 "nbformat_minor": 4
}

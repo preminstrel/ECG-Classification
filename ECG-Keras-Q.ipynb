{
 "cells": [
  {
   "cell_type": "markdown",
   "metadata": {},
   "source": [
    "# ECG-Classification-Q\n",
    "#### @based-on https://github.com/SEU-wzx/ECGAI_1D-CNN"
   ]
  },
  {
   "cell_type": "markdown",
   "metadata": {},
   "source": [
    "## Import Packages"
   ]
  },
  {
   "cell_type": "code",
   "execution_count": 1,
   "metadata": {},
   "outputs": [],
   "source": [
    "import tensorflow as tf\n",
    "import tensorflow.keras as keras\n",
    "\n",
    "import random\n",
    "import numpy as np\n",
    "import scipy.io as scio\n",
    "import pandas as pd\n",
    "import os\n",
    "import collections\n",
    "from matplotlib import pyplot as plt\n",
    "\n",
    "from keras import optimizers\n",
    "from keras.models import Model, Sequential\n",
    "from keras.optimizers import Adam, SGD, RMSprop\n",
    "from keras.layers import Dense, Dropout, Activation, Flatten, Input\n",
    "from keras.layers import Conv1D, BatchNormalization, MaxPooling1D\n",
    "from keras.utils import to_categorical\n",
    "\n",
    "from sklearn.model_selection import train_test_split"
   ]
  },
  {
   "cell_type": "markdown",
   "metadata": {},
   "source": [
    "## Set Path"
   ]
  },
  {
   "cell_type": "code",
   "execution_count": 2,
   "metadata": {},
   "outputs": [],
   "source": [
    "base_path = './'\n",
    "dataset_path =  './Dataset' # Training data"
   ]
  },
  {
   "cell_type": "markdown",
   "metadata": {},
   "source": [
    "## Plot Settings"
   ]
  },
  {
   "cell_type": "code",
   "execution_count": 3,
   "metadata": {},
   "outputs": [],
   "source": [
    "plt.rcParams[\"figure.figsize\"] = (15,5)\n",
    "plt.rcParams['lines.linewidth'] = 2\n",
    "plt.rcParams['lines.color'] = 'b'\n",
    "plt.rcParams['axes.grid'] = True"
   ]
  },
  {
   "cell_type": "markdown",
   "metadata": {},
   "source": [
    "## Data Process"
   ]
  },
  {
   "cell_type": "code",
   "execution_count": 4,
   "metadata": {},
   "outputs": [],
   "source": [
    "# Variables\n",
    "\n",
    "classes = ['NSR', 'APB', 'AFL', 'AFIB', 'SVTA', 'WPW','PVC', 'Bigeminy', 'Trigeminy', \n",
    "           'VT', 'IVR', 'VFL', 'Fusion', 'LBBBB', 'RBBBB', 'SDHB', 'PR']\n",
    "ClassesNum = len(classes)\n",
    "\n",
    "X = list()\n",
    "y = list()\n",
    "\n",
    "for root, dirs, files in os.walk(dataset_path, topdown=False):\n",
    "    for name in files:\n",
    "        data_train = scio.loadmat(os.path.join(root, name))# 取出字典里的value\n",
    "        \n",
    "        # arr -> list\n",
    "        data_arr = data_train.get('val')\n",
    "        data_list = data_arr.tolist()\n",
    "        \n",
    "        X.append(data_list[0]) # [[……]] -> [ ]\n",
    "        y.append(int(os.path.basename(root)[0:2]) - 1)  # name -> num"
   ]
  },
  {
   "cell_type": "markdown",
   "metadata": {},
   "source": [
    "## Layers"
   ]
  },
  {
   "cell_type": "code",
   "execution_count": 5,
   "metadata": {},
   "outputs": [],
   "source": [
    "def nn_base(Unit, Kernel, Conv_Stride, Maxpool_Stride, input_tensor = None):\n",
    "    \n",
    "    input_shape = (None, 3)\n",
    "\n",
    "    ecg_input = input_tensor\n",
    "\n",
    "    bn_axis = 3\n",
    "\n",
    "    # nn_base\n",
    "    x = Conv1D(filters = Unit, kernel_size = Kernel, padding = 'same', strides = Conv_Stride, activation = 'relu', \n",
    "               data_format='channels_last')(ecg_input)\n",
    "    \n",
    "    x = BatchNormalization()(x)\n",
    "    \n",
    "    x = MaxPooling1D(pool_size = 2, strides = Maxpool_Stride, padding = 'same', \n",
    "                     data_format='channels_last')(x)\n",
    "\n",
    "    return x"
   ]
  },
  {
   "cell_type": "code",
   "execution_count": 6,
   "metadata": {},
   "outputs": [],
   "source": [
    "def classifier_layer(base_layer, dropout_rate = 0.1, ClassesNum = 17):\n",
    "    \n",
    "    # classifier layers\n",
    "    x = Conv1D(filters = 32, kernel_size = 10, padding = 'same', activation = 'relu', \n",
    "               name = 'classifier_layer_Conv1D1', data_format='channels_last')(base_layer)\n",
    "    \n",
    "    x = Conv1D(filters = 128, kernel_size = 5, padding = 'same', activation = 'relu', \n",
    "               strides = 2, name = 'classifier_layer_Conv1D2', data_format='channels_last')(x)\n",
    "    \n",
    "    x = MaxPooling1D(pool_size = 2, strides = 2, padding = 'same', \n",
    "                     name = 'classifier_layer_MaxPooling1D1', data_format='channels_last')(x)\n",
    "    \n",
    "    x = Conv1D(filters = 256, kernel_size = 15, padding = 'same', activation = 'relu', \n",
    "               name = 'classifier_layer_Conv1D3', data_format='channels_last')(x)\n",
    "    \n",
    "    x = MaxPooling1D(pool_size = 2, strides = 2, padding = 'same', \n",
    "                     name = 'classifier_layer_MaxPooling1D2', data_format='channels_last')(x)\n",
    "    \n",
    "    x = Conv1D(filters = 512, kernel_size = 5, padding = 'same', activation = 'relu', \n",
    "               name = 'classifier_layer_Conv1D4', data_format='channels_last')(x)\n",
    "    \n",
    "    x = Conv1D(filters = 128, kernel_size = 3, padding = 'same', activation = 'relu', \n",
    "               name = 'classifier_layer_Conv1D5', data_format='channels_last')(x)\n",
    "    \n",
    "    \n",
    "    x = Flatten(name = 'classifier_layer_Flatten')(x)\n",
    "    x = Dense(units = 512, activation = 'relu', name = 'classifier_layer_Dense1')(x)\n",
    "    x = Dropout(rate = dropout_rate, name = 'classifier_layer_Dropout')(x)\n",
    "    x = Dense(units = ClassesNum, activation = 'softmax', name = 'classifier_layer_Dense2')(x)\n",
    "    \n",
    "    return x"
   ]
  },
  {
   "cell_type": "markdown",
   "metadata": {},
   "source": [
    "## Dataset Check"
   ]
  },
  {
   "cell_type": "code",
   "execution_count": 7,
   "metadata": {},
   "outputs": [
    {
     "name": "stdout",
     "output_type": "stream",
     "text": [
      "total num of training data :  1000\n",
      "X_train :  800\n",
      "X_test  :  200\n",
      "y_train :  Counter({0: 223, 3: 109, 6: 104, 13: 85, 1: 54, 14: 51, 7: 39, 16: 35, 5: 17, 2: 15, 4: 11, 12: 10, 11: 10, 8: 10, 15: 10, 10: 9, 9: 8})\n",
      "y_test  :  Counter({0: 60, 6: 29, 3: 26, 13: 18, 7: 16, 1: 12, 14: 11, 16: 10, 2: 5, 5: 4, 8: 3, 4: 2, 9: 2, 12: 1, 10: 1})\n",
      "shape of X_train :  (3600,)\n",
      "shape of y_train :  (800,)\n",
      "shape of X_test :  (200, 3600)\n",
      "shape of y_test :  (200,)\n"
     ]
    }
   ],
   "source": [
    "# list -> arr\n",
    "X=np.array(X)\n",
    "y=np.array(y)\n",
    "\n",
    "print(\"total num of training data : \", len(X))\n",
    "\n",
    "# get X_train, X_test, y_train, y_test \n",
    "X_train, X_test, y_train, y_test = train_test_split(X, y, test_size=0.2)\n",
    "\n",
    "print(\"X_train : \", len(X_train))\n",
    "print(\"X_test  : \", len(X_test))\n",
    "print(\"y_train : \", collections.Counter(y_train))\n",
    "print(\"y_test  : \", collections.Counter(y_test))\n",
    "print(\"shape of X_train : \", np.shape(X_train[0]))\n",
    "print(\"shape of y_train : \", np.shape(y_train))\n",
    "print(\"shape of X_test : \", np.shape(X_test))\n",
    "print(\"shape of y_test : \", np.shape(y_test))"
   ]
  },
  {
   "cell_type": "markdown",
   "metadata": {},
   "source": [
    "## Model Graph"
   ]
  },
  {
   "cell_type": "code",
   "execution_count": 8,
   "metadata": {},
   "outputs": [
    {
     "name": "stdout",
     "output_type": "stream",
     "text": [
      "Model: \"model\"\n",
      "_________________________________________________________________\n",
      "Layer (type)                 Output Shape              Param #   \n",
      "=================================================================\n",
      "input_1 (InputLayer)         [(None, 3600, 1)]         0         \n",
      "_________________________________________________________________\n",
      "conv1d (Conv1D)              (None, 1200, 128)         6528      \n",
      "_________________________________________________________________\n",
      "batch_normalization (BatchNo (None, 1200, 128)         512       \n",
      "_________________________________________________________________\n",
      "max_pooling1d (MaxPooling1D) (None, 400, 128)          0         \n",
      "_________________________________________________________________\n",
      "conv1d_1 (Conv1D)            (None, 400, 32)           28704     \n",
      "_________________________________________________________________\n",
      "batch_normalization_1 (Batch (None, 400, 32)           128       \n",
      "_________________________________________________________________\n",
      "max_pooling1d_1 (MaxPooling1 (None, 200, 32)           0         \n",
      "_________________________________________________________________\n",
      "classifier_layer_Conv1D1 (Co (None, 200, 32)           10272     \n",
      "_________________________________________________________________\n",
      "classifier_layer_Conv1D2 (Co (None, 100, 128)          20608     \n",
      "_________________________________________________________________\n",
      "classifier_layer_MaxPooling1 (None, 50, 128)           0         \n",
      "_________________________________________________________________\n",
      "classifier_layer_Conv1D3 (Co (None, 50, 256)           491776    \n",
      "_________________________________________________________________\n",
      "classifier_layer_MaxPooling1 (None, 25, 256)           0         \n",
      "_________________________________________________________________\n",
      "classifier_layer_Conv1D4 (Co (None, 25, 512)           655872    \n",
      "_________________________________________________________________\n",
      "classifier_layer_Conv1D5 (Co (None, 25, 128)           196736    \n",
      "_________________________________________________________________\n",
      "classifier_layer_Flatten (Fl (None, 3200)              0         \n",
      "_________________________________________________________________\n",
      "classifier_layer_Dense1 (Den (None, 512)               1638912   \n",
      "_________________________________________________________________\n",
      "classifier_layer_Dropout (Dr (None, 512)               0         \n",
      "_________________________________________________________________\n",
      "classifier_layer_Dense2 (Den (None, 17)                8721      \n",
      "=================================================================\n",
      "Total params: 3,058,769\n",
      "Trainable params: 3,058,449\n",
      "Non-trainable params: 320\n",
      "_________________________________________________________________\n",
      "None\n"
     ]
    }
   ],
   "source": [
    "input_ecg = Input(shape=(3600,1))\n",
    "x = nn_base(128, 50, Conv_Stride = 3, Maxpool_Stride = 3, input_tensor = input_ecg)\n",
    "x = nn_base(32, 7, Conv_Stride = 1, Maxpool_Stride = 2, input_tensor = x)\n",
    "output_ecg = classifier_layer(x, dropout_rate = 0.1, ClassesNum = 17)\n",
    "model_m = Model(input_ecg, output_ecg)\n",
    "print(model_m.summary())"
   ]
  },
  {
   "cell_type": "markdown",
   "metadata": {},
   "source": [
    "## Settings optimizers & compile"
   ]
  },
  {
   "cell_type": "code",
   "execution_count": 9,
   "metadata": {},
   "outputs": [
    {
     "data": {
      "text/plain": [
       "(800, 3600, 1)"
      ]
     },
     "metadata": {},
     "output_type": "display_data"
    }
   ],
   "source": [
    "# setting optimizers & compile\n",
    "optimizers.Adam(lr = 0.002, beta_1 = 0.9, beta_2 = 0.999, epsilon = None, decay = 0.0, amsgrad = False)\n",
    "# model_all.compile(optimizer = 'adam', loss = 'categorical_crossentropy', metrics = ['accuracy'])\n",
    "model_m.compile(optimizer = 'adam', loss = 'categorical_crossentropy', metrics = ['accuracy'])\n",
    "\n",
    "# expand X_train dims\n",
    "X_train = np.expand_dims(X_train, axis=2)\n",
    "X_test = np.reshape(X_test, (np.shape(X_test)[0], np.shape(X_test)[1], 1))\n",
    "# Y : int -> binary (one-hot)\n",
    "y_train = to_categorical(y_train,num_classes = ClassesNum)\n",
    "y_test = to_categorical(y_test,num_classes = ClassesNum)\n",
    "\n",
    "display(np.shape(X_train))"
   ]
  },
  {
   "cell_type": "markdown",
   "metadata": {},
   "source": [
    "## Train"
   ]
  },
  {
   "cell_type": "code",
   "execution_count": 10,
   "metadata": {},
   "outputs": [
    {
     "name": "stdout",
     "output_type": "stream",
     "text": [
      "Epoch 1/50\n",
      "50/50 [==============================] - 4s 61ms/step - loss: 2.6148 - accuracy: 0.2376\n",
      "Epoch 2/50\n",
      "50/50 [==============================] - 3s 65ms/step - loss: 2.1183 - accuracy: 0.3388\n",
      "Epoch 3/50\n",
      "50/50 [==============================] - 3s 61ms/step - loss: 1.8277 - accuracy: 0.4472\n",
      "Epoch 4/50\n",
      "50/50 [==============================] - 3s 60ms/step - loss: 1.4459 - accuracy: 0.5607\n",
      "Epoch 5/50\n",
      "50/50 [==============================] - 3s 62ms/step - loss: 1.3626 - accuracy: 0.5907\n",
      "Epoch 6/50\n",
      "50/50 [==============================] - 3s 61ms/step - loss: 0.8769 - accuracy: 0.7381\n",
      "Epoch 7/50\n",
      "50/50 [==============================] - 3s 61ms/step - loss: 0.5800 - accuracy: 0.8258\n",
      "Epoch 8/50\n",
      "50/50 [==============================] - 3s 60ms/step - loss: 0.4856 - accuracy: 0.8548\n",
      "Epoch 9/50\n",
      "50/50 [==============================] - 3s 63ms/step - loss: 0.5545 - accuracy: 0.8416\n",
      "Epoch 10/50\n",
      "50/50 [==============================] - 3s 63ms/step - loss: 0.3755 - accuracy: 0.8878\n",
      "Epoch 11/50\n",
      "50/50 [==============================] - 3s 63ms/step - loss: 0.4240 - accuracy: 0.8873\n",
      "Epoch 12/50\n",
      "50/50 [==============================] - 3s 63ms/step - loss: 0.1934 - accuracy: 0.9449\n",
      "Epoch 13/50\n",
      "50/50 [==============================] - 3s 62ms/step - loss: 0.2459 - accuracy: 0.9232\n",
      "Epoch 14/50\n",
      "50/50 [==============================] - 3s 62ms/step - loss: 0.1279 - accuracy: 0.9621\n",
      "Epoch 15/50\n",
      "50/50 [==============================] - 3s 62ms/step - loss: 0.1015 - accuracy: 0.9632\n",
      "Epoch 16/50\n",
      "50/50 [==============================] - 3s 63ms/step - loss: 0.0764 - accuracy: 0.9784\n",
      "Epoch 17/50\n",
      "50/50 [==============================] - 3s 63ms/step - loss: 0.1548 - accuracy: 0.9631\n",
      "Epoch 18/50\n",
      "50/50 [==============================] - 3s 63ms/step - loss: 0.1755 - accuracy: 0.9519\n",
      "Epoch 19/50\n",
      "50/50 [==============================] - 3s 65ms/step - loss: 0.1018 - accuracy: 0.9644\n",
      "Epoch 20/50\n",
      "50/50 [==============================] - 3s 62ms/step - loss: 0.0320 - accuracy: 0.9901\n",
      "Epoch 21/50\n",
      "50/50 [==============================] - 3s 63ms/step - loss: 0.0217 - accuracy: 0.9977\n",
      "Epoch 22/50\n",
      "50/50 [==============================] - 3s 63ms/step - loss: 0.0453 - accuracy: 0.9907\n",
      "Epoch 23/50\n",
      "50/50 [==============================] - 3s 62ms/step - loss: 0.1046 - accuracy: 0.9741\n",
      "Epoch 24/50\n",
      "50/50 [==============================] - 3s 63ms/step - loss: 0.3674 - accuracy: 0.9382\n",
      "Epoch 25/50\n",
      "50/50 [==============================] - 3s 63ms/step - loss: 0.1110 - accuracy: 0.9759\n",
      "Epoch 26/50\n",
      "50/50 [==============================] - 3s 62ms/step - loss: 0.0973 - accuracy: 0.9806\n",
      "Epoch 27/50\n",
      "50/50 [==============================] - 3s 62ms/step - loss: 0.1667 - accuracy: 0.9552\n",
      "Epoch 28/50\n",
      "50/50 [==============================] - 3s 63ms/step - loss: 0.0280 - accuracy: 0.9939\n",
      "Epoch 29/50\n",
      "50/50 [==============================] - 3s 67ms/step - loss: 0.0038 - accuracy: 0.9992\n",
      "Epoch 30/50\n",
      "50/50 [==============================] - 3s 63ms/step - loss: 0.0322 - accuracy: 0.9869\n",
      "Epoch 31/50\n",
      "50/50 [==============================] - 3s 63ms/step - loss: 0.0408 - accuracy: 0.9867\n",
      "Epoch 32/50\n",
      "50/50 [==============================] - 3s 64ms/step - loss: 0.0170 - accuracy: 0.9962\n",
      "Epoch 33/50\n",
      "50/50 [==============================] - 3s 69ms/step - loss: 0.2796 - accuracy: 0.9671\n",
      "Epoch 34/50\n",
      "50/50 [==============================] - 3s 67ms/step - loss: 0.0608 - accuracy: 0.9861\n",
      "Epoch 35/50\n",
      "50/50 [==============================] - 3s 64ms/step - loss: 0.0493 - accuracy: 0.9919\n",
      "Epoch 36/50\n",
      "50/50 [==============================] - 3s 63ms/step - loss: 0.0194 - accuracy: 0.9955\n",
      "Epoch 37/50\n",
      "50/50 [==============================] - 3s 64ms/step - loss: 0.0698 - accuracy: 0.9797\n",
      "Epoch 38/50\n",
      "50/50 [==============================] - 3s 64ms/step - loss: 0.0269 - accuracy: 0.9923\n",
      "Epoch 39/50\n",
      "50/50 [==============================] - 3s 63ms/step - loss: 0.0628 - accuracy: 0.9862\n",
      "Epoch 40/50\n",
      "50/50 [==============================] - 3s 63ms/step - loss: 0.0441 - accuracy: 0.9902\n",
      "Epoch 41/50\n",
      "50/50 [==============================] - 3s 64ms/step - loss: 0.0335 - accuracy: 0.9931\n",
      "Epoch 42/50\n",
      "50/50 [==============================] - 3s 63ms/step - loss: 0.0036 - accuracy: 0.9992\n",
      "Epoch 43/50\n",
      "50/50 [==============================] - 3s 64ms/step - loss: 0.0114 - accuracy: 0.9923\n",
      "Epoch 44/50\n",
      "50/50 [==============================] - 3s 63ms/step - loss: 0.0017 - accuracy: 1.0000\n",
      "Epoch 45/50\n",
      "50/50 [==============================] - 3s 63ms/step - loss: 0.0011 - accuracy: 1.0000\n",
      "Epoch 46/50\n",
      "50/50 [==============================] - 3s 63ms/step - loss: 0.0013 - accuracy: 1.0000\n",
      "Epoch 47/50\n",
      "50/50 [==============================] - 3s 63ms/step - loss: 1.5442e-04 - accuracy: 1.0000\n",
      "Epoch 48/50\n",
      "50/50 [==============================] - 3s 63ms/step - loss: 0.0108 - accuracy: 0.9986\n",
      "Epoch 49/50\n",
      "50/50 [==============================] - 3s 64ms/step - loss: 0.0583 - accuracy: 0.9889\n",
      "Epoch 50/50\n",
      "50/50 [==============================] - 3s 63ms/step - loss: 0.0296 - accuracy: 0.9974\n"
     ]
    }
   ],
   "source": [
    "BATCH_SIZE = 16\n",
    "EPOCHS = 50\n",
    "# history = model_all.fit(X_train, y_train, batch_size = BATCH_SIZE, epochs = EPOCHS)\n",
    "history = model_m.fit(X_train, y_train, batch_size = BATCH_SIZE, epochs = EPOCHS)"
   ]
  },
  {
   "cell_type": "markdown",
   "metadata": {},
   "source": [
    "## Accuracy & Loss"
   ]
  },
  {
   "cell_type": "code",
   "execution_count": 11,
   "metadata": {},
   "outputs": [
    {
     "name": "stdout",
     "output_type": "stream",
     "text": [
      "dict_keys(['loss', 'accuracy'])\n",
      "[2.448559045791626, 2.1282994747161865, 1.7727857828140259, 1.4726184606552124, 1.2851171493530273, 0.8230487704277039, 0.5826590657234192, 0.537813127040863, 0.5403570532798767, 0.46318191289901733, 0.41595545411109924, 0.23795126378536224, 0.22980327904224396, 0.1257442682981491, 0.07355410605669022, 0.13930743932724, 0.11463785171508789, 0.2593943476676941, 0.08485419303178787, 0.025699276477098465, 0.027964066714048386, 0.06855059415102005, 0.09428571909666061, 0.2435474842786789, 0.14356322586536407, 0.17830562591552734, 0.13003067672252655, 0.022915560752153397, 0.019050247967243195, 0.059116754680871964, 0.04505375027656555, 0.045350752770900726, 0.23409032821655273, 0.055844902992248535, 0.04123230278491974, 0.0438087098300457, 0.08746051788330078, 0.06435957551002502, 0.05527491867542267, 0.040797144174575806, 0.029848402366042137, 0.02172870934009552, 0.015833701938390732, 0.0017687092768028378, 0.0018687346018850803, 0.0009460797882638872, 0.00013668833707924932, 0.044974520802497864, 0.07210969179868698, 0.1057904064655304]\n",
      "[0.27250000834465027, 0.3449999988079071, 0.4637500047683716, 0.5575000047683716, 0.6162499785423279, 0.7450000047683716, 0.8287500143051147, 0.8450000286102295, 0.8450000286102295, 0.8687499761581421, 0.8862500190734863, 0.9262499809265137, 0.9287499785423279, 0.9599999785423279, 0.9762499928474426, 0.9637500047683716, 0.9700000286102295, 0.9312499761581421, 0.9712499976158142, 0.9937499761581421, 0.9962499737739563, 0.9862499833106995, 0.9737499952316284, 0.9449999928474426, 0.9649999737739563, 0.9649999737739563, 0.9674999713897705, 0.9950000047683716, 0.9950000047683716, 0.9800000190734863, 0.9862499833106995, 0.9887499809265137, 0.9637500047683716, 0.9862499833106995, 0.9912499785423279, 0.9887499809265137, 0.9762499928474426, 0.9862499833106995, 0.987500011920929, 0.9912499785423279, 0.9937499761581421, 0.9975000023841858, 0.9900000095367432, 1.0, 1.0, 1.0, 1.0, 0.9937499761581421, 0.9837499856948853, 0.987500011920929]\n"
     ]
    }
   ],
   "source": [
    "print(history.history.keys())\n",
    "print(history.history['loss'])\n",
    "print(history.history['accuracy'])"
   ]
  },
  {
   "cell_type": "markdown",
   "metadata": {},
   "source": [
    "## Plot"
   ]
  },
  {
   "cell_type": "code",
   "execution_count": 12,
   "metadata": {},
   "outputs": [
    {
     "data": {
      "text/plain": [
       "Text(0.5, 1.0, 'acc')"
      ]
     },
     "execution_count": 12,
     "metadata": {},
     "output_type": "execute_result"
    },
    {
     "data": {
      "image/png": "[encoded data removed]",
      "text/plain": [
       "<Figure size 1080x360 with 2 Axes>"
      ]
     },
     "metadata": {
      "needs_background": "light"
     },
     "output_type": "display_data"
    }
   ],
   "source": [
    "\n",
    "# put into df\n",
    "record_arr = np.array([history.history['loss'][0], history.history['accuracy'][0]])\n",
    "for i in range(1, EPOCHS):\n",
    "    new_row = np.array([history.history['loss'][i], history.history['accuracy'][i]])\n",
    "    record_arr = np.row_stack((record_arr, new_row))\n",
    "    \n",
    "record_df = pd.DataFrame(record_arr, columns=[\"loss\", \"acc\"])\n",
    "\n",
    "#print curve\n",
    "plt.subplot(1,2,1)\n",
    "plt.plot(np.arange(0, EPOCHS), record_df[\"loss\"], 'r')\n",
    "plt.title('loss')\n",
    "plt.subplot(1,2,2)\n",
    "plt.plot(np.arange(0, EPOCHS), record_df[\"acc\"], 'r')\n",
    "plt.title('acc')"
   ]
  },
  {
   "cell_type": "code",
   "execution_count": 13,
   "metadata": {},
   "outputs": [
    {
     "name": "stdout",
     "output_type": "stream",
     "text": [
      "13/13 [==============================] - 0s 10ms/step - loss: 1.8498 - accuracy: 0.5250\n",
      "loss of val :  1.8497918844223022\n",
      "acc of val :  0.5249999761581421\n"
     ]
    }
   ],
   "source": [
    "# val_loss_acc = model_all.evaluate(X_test, y_test, batch_size=100)\n",
    "val_loss_acc = model_m.evaluate(X_test, y_test, batch_size = 16)\n",
    "print(\"loss of val : \", val_loss_acc[0])\n",
    "print(\"acc of val : \", val_loss_acc[1])"
   ]
  },
  {
   "cell_type": "markdown",
   "metadata": {},
   "source": [
    "## Predict"
   ]
  },
  {
   "cell_type": "code",
   "execution_count": 14,
   "metadata": {},
   "outputs": [
    {
     "data": {
      "text/plain": [
       "array([[8.1491476e-01, 6.9638506e-02, 7.4795932e-03, ..., 2.4068212e-02,\n",
       "        8.4783032e-04, 8.4022101e-04],\n",
       "       [1.0645549e-02, 3.1387465e-04, 5.9893378e-04, ..., 1.3022801e-05,\n",
       "        2.4205389e-04, 8.9657122e-01],\n",
       "       [9.8920912e-01, 7.1114898e-03, 2.9202463e-04, ..., 2.0546225e-04,\n",
       "        5.8265283e-07, 6.3757551e-07],\n",
       "       ...,\n",
       "       [3.6522271e-16, 6.8862347e-13, 1.4558334e-25, ..., 3.2264449e-19,\n",
       "        1.2790442e-22, 4.8355242e-21],\n",
       "       [7.6306576e-01, 6.4809479e-02, 4.0610399e-02, ..., 9.2622787e-03,\n",
       "        1.4802314e-03, 8.7084144e-04],\n",
       "       [6.6221011e-01, 9.8271547e-03, 1.4490127e-03, ..., 2.8111377e-01,\n",
       "        2.0239773e-04, 3.5512864e-04]], dtype=float32)"
      ]
     },
     "metadata": {},
     "output_type": "display_data"
    }
   ],
   "source": [
    "# predictions = model_all.predict(X_test)\n",
    "predictions = model_m.predict(X_test)\n",
    "display(predictions)"
   ]
  }
 ],
 "metadata": {
  "kernelspec": {
   "display_name": "Python 3 (ipykernel)",
   "language": "python",
   "name": "python3"
  },
  "language_info": {
   "codemirror_mode": {
    "name": "ipython",
    "version": 3
   },
   "file_extension": ".py",
   "mimetype": "text/x-python",
   "name": "python",
   "nbconvert_exporter": "python",
   "pygments_lexer": "ipython3",
   "version": "3.7.11"
  }
 },
 "nbformat": 4,
 "nbformat_minor": 4
}

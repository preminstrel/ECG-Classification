{
 "cells": [
  {
   "cell_type": "markdown",
   "id": "2c2dec9d",
   "metadata": {},
   "source": [
    "# ECG-Pytorch-Ver2.0\n",
    "\n",
    "@create 2021-09-13\n",
    "@author 孙寒石\n",
    "@env Pytorch 1.9.0 Python 3.7"
   ]
  },
  {
   "cell_type": "markdown",
   "id": "822a69dd",
   "metadata": {},
   "source": [
    "## Import Packages"
   ]
  },
  {
   "cell_type": "code",
   "execution_count": 1,
   "id": "30a3bb18",
   "metadata": {},
   "outputs": [],
   "source": [
    "import torch\n",
    "import torch.nn as nn\n",
    "from torch.nn import functional as F\n",
    "from torch.autograd import Variable\n",
    "from torch.utils.data import Dataset, DataLoader\n",
    "from torchvision import transforms\n",
    "import torch.optim as optim\n",
    "\n",
    "import numpy as np\n",
    "import pandas as pd\n",
    "import matplotlib.pyplot as plt"
   ]
  },
  {
   "cell_type": "markdown",
   "id": "692deb4e",
   "metadata": {},
   "source": [
    "## Prepare Dataset"
   ]
  },
  {
   "cell_type": "code",
   "execution_count": 2,
   "id": "430755c8",
   "metadata": {},
   "outputs": [
    {
     "name": "stdout",
     "output_type": "stream",
     "text": [
      "X_train :  800\n",
      "X_test  :  200\n",
      "shape of X_train :  (1, 3600)\n",
      "shape of y_train :  (800,)\n",
      "shape of X_test :  (200, 1, 3600)\n",
      "shape of y_test :  (200,)\n"
     ]
    }
   ],
   "source": [
    "import os\n",
    "import scipy.io as scio\n",
    "from sklearn.model_selection import train_test_split\n",
    "\n",
    "base_path = './'\n",
    "dataset_path =  './Dataset' # Training data\n",
    "\n",
    "classes = ['NSR', 'APB', 'AFL', 'AFIB', 'SVTA', 'WPW','PVC', 'Bigeminy', 'Trigeminy', \n",
    "           'VT', 'IVR', 'VFL', 'Fusion', 'LBBBB', 'RBBBB', 'SDHB', 'PR']\n",
    "ClassesNum = len(classes)\n",
    "\n",
    "X = list()\n",
    "y = list()\n",
    "\n",
    "for root, dirs, files in os.walk(dataset_path, topdown=False):\n",
    "    for name in files:\n",
    "        data_train = scio.loadmat(os.path.join(root, name))# 取出字典里的value\n",
    "        \n",
    "        # arr -> list\n",
    "        data_arr = data_train.get('val')\n",
    "        data_list = data_arr.tolist()\n",
    "        \n",
    "        X.append(data_list[0]) # [[……]] -> [ ]\n",
    "        y.append(int(os.path.basename(root)[0:2]) - 1)  # name -> num\n",
    "        \n",
    "def normalization(data):\n",
    "    _range = np.max(data) - np.min(data)\n",
    "    return (data - np.min(data)) / _range\n",
    "        \n",
    "def standardization(data):\n",
    "    mu = np.mean(data, axis=0)\n",
    "    sigma = np.std(data, axis=0)\n",
    "    return (data - mu) / sigma\n",
    "    \n",
    "X=np.array(X)\n",
    "y=np.array(y)\n",
    "X = standardization(X)\n",
    "X = X.reshape((1000,1,3600))\n",
    "y = y.reshape((1000))\n",
    "X_train, X_test, y_train, y_test = train_test_split(X, y, test_size=0.2)\n",
    "print(\"X_train : \", len(X_train))\n",
    "print(\"X_test  : \", len(X_test))\n",
    "print(\"shape of X_train : \", np.shape(X_train[0]))\n",
    "print(\"shape of y_train : \", np.shape(y_train))\n",
    "print(\"shape of X_test : \", np.shape(X_test))\n",
    "print(\"shape of y_test : \", np.shape(y_test))"
   ]
  },
  {
   "cell_type": "code",
   "execution_count": 3,
   "id": "83a1fa99",
   "metadata": {},
   "outputs": [],
   "source": [
    "batch_size = 16\n",
    "class MyDataset(Dataset):\n",
    "    def __init__(self):\n",
    "        self.len = X_train.shape[0] # 取第0元素：长度\n",
    "        self.x_train = torch.from_numpy(X_train).float().to(\"cuda\")\n",
    "        self.y_train = torch.from_numpy(y_train).long().to(\"cuda\")\n",
    "    def __getitem__(self, index):\n",
    "        return self.x_train[index], self.y_train[index] # 返回对应样本即可\n",
    "    def __len__(self):\n",
    "        return self.len\n",
    "    \n",
    "class TestDataset(Dataset):\n",
    "    def __init__(self):\n",
    "        self.len = X_test.shape[0] # 取第0元素：长度\n",
    "        self.x_test = torch.from_numpy(X_test).float().to(\"cuda\")\n",
    "        self.y_test = torch.from_numpy(y_test).long().to(\"cuda\")\n",
    "    def __getitem__(self, index):\n",
    "        return self.x_test[index], self.y_test[index] # 返回对应样本即可\n",
    "    def __len__(self):\n",
    "        return self.len    \n",
    "        \n",
    "train_dataset = MyDataset()\n",
    "test_dataset = TestDataset()\n",
    "train_loader = DataLoader(dataset=train_dataset, \n",
    "                          batch_size=batch_size, \n",
    "                          shuffle=True, \n",
    "                          num_workers=0)\n",
    "test_loader = DataLoader(dataset=test_dataset, \n",
    "                          batch_size=batch_size, \n",
    "                          shuffle=True, \n",
    "                          num_workers=0)"
   ]
  },
  {
   "cell_type": "markdown",
   "id": "7a71646d",
   "metadata": {},
   "source": [
    "## Load Model"
   ]
  },
  {
   "cell_type": "code",
   "execution_count": 4,
   "id": "4433fe28",
   "metadata": {},
   "outputs": [
    {
     "name": "stdout",
     "output_type": "stream",
     "text": [
      "----------------------------------------------------------------\n",
      "        Layer (type)               Output Shape         Param #\n",
      "================================================================\n",
      "            Conv1d-1              [-1, 8, 1800]             136\n",
      "              ReLU-2              [-1, 8, 1800]               0\n",
      "         MaxPool1d-3               [-1, 8, 449]               0\n",
      "            Conv1d-4              [-1, 12, 224]           1,164\n",
      "              ReLU-5              [-1, 12, 224]               0\n",
      "         MaxPool1d-6              [-1, 12, 111]               0\n",
      "            Conv1d-7              [-1, 32, 111]           3,488\n",
      "              ReLU-8              [-1, 32, 111]               0\n",
      "         MaxPool1d-9               [-1, 32, 54]               0\n",
      "           Conv1d-10               [-1, 64, 54]          14,400\n",
      "             ReLU-11               [-1, 64, 54]               0\n",
      "        MaxPool1d-12               [-1, 64, 26]               0\n",
      "           Conv1d-13               [-1, 64, 26]          20,544\n",
      "             ReLU-14               [-1, 64, 26]               0\n",
      "        MaxPool1d-15               [-1, 64, 13]               0\n",
      "           Conv1d-16               [-1, 64, 13]          12,352\n",
      "             ReLU-17               [-1, 64, 13]               0\n",
      "        MaxPool1d-18                [-1, 64, 6]               0\n",
      "           Conv1d-19                [-1, 72, 6]          13,896\n",
      "             ReLU-20                [-1, 72, 6]               0\n",
      "        MaxPool1d-21                [-1, 72, 3]               0\n",
      "          Flatten-22                  [-1, 216]               0\n",
      "           Linear-23                   [-1, 64]          13,888\n",
      "             ReLU-24                   [-1, 64]               0\n",
      "          Dropout-25                   [-1, 64]               0\n",
      "           Linear-26                   [-1, 17]           1,105\n",
      "================================================================\n",
      "Total params: 80,973\n",
      "Trainable params: 80,973\n",
      "Non-trainable params: 0\n",
      "----------------------------------------------------------------\n",
      "Input size (MB): 0.01\n",
      "Forward/backward pass size (MB): 0.49\n",
      "Params size (MB): 0.31\n",
      "Estimated Total Size (MB): 0.81\n",
      "----------------------------------------------------------------\n"
     ]
    },
    {
     "name": "stderr",
     "output_type": "stream",
     "text": [
      "/home/preminstrel/anaconda3/envs/pytorch/lib/python3.7/site-packages/torch/nn/functional.py:652: UserWarning: Named tensors and all their associated APIs are an experimental feature and subject to change. Please do not use them for anything important until they are released as stable. (Triggered internally at  /opt/conda/conda-bld/pytorch_1623448224956/work/c10/core/TensorImpl.h:1156.)\n",
      "  return torch.max_pool1d(input, kernel_size, stride, padding, dilation, ceil_mode)\n"
     ]
    }
   ],
   "source": [
    "in_channels_ = 1\n",
    "num_segments_in_record = 100\n",
    "segment_len = 3600   # 3600 采样\n",
    "num_classes = 17\n",
    "\n",
    "class Flatten(torch.nn.Module):\n",
    "    def forward(self, x):\n",
    "        batch_size = x.shape[0]\n",
    "        return x.view(batch_size, -1)\n",
    "\n",
    "class arrhythmia_classifier(nn.Module):\n",
    "    def __init__(self, in_channels=in_channels_):\n",
    "        super(arrhythmia_classifier, self).__init__()\n",
    "        self.cnn = nn.Sequential(\n",
    "            nn.Conv1d(1,8,16,stride=2,padding=7),\n",
    "            nn.ReLU(),\n",
    "            #nn.BatchNorm1d(8),\n",
    "            nn.MaxPool1d(kernel_size=8,stride=4),\n",
    "   \n",
    "            nn.Conv1d(8,12,12,padding=5,stride=2),\n",
    "            nn.ReLU(),\n",
    "            #nn.BatchNorm1d(16),\n",
    "            nn.MaxPool1d(4,stride=2),\n",
    "            \n",
    "            nn.Conv1d(12,32,9,stride=1,padding=4),\n",
    "            nn.ReLU(),\n",
    "            nn.MaxPool1d(5,stride=2),\n",
    "            \n",
    "            nn.Conv1d(32,64,7,stride=1,padding=3),\n",
    "            nn.ReLU(),\n",
    "            nn.MaxPool1d(4,stride=2),\n",
    "            \n",
    "            nn.Conv1d(64,64,5,stride=1,padding=2),\n",
    "            nn.ReLU(),\n",
    "            nn.MaxPool1d(2,2),\n",
    "            \n",
    "            nn.Conv1d(64,64,3,stride=1,padding=1),\n",
    "            nn.ReLU(),\n",
    "            nn.MaxPool1d(2,2),\n",
    "            \n",
    "            nn.Conv1d(64,72,3,stride=1,padding=1),\n",
    "            nn.ReLU(),\n",
    "            nn.MaxPool1d(2,2),\n",
    "            Flatten(),\n",
    "            nn.Linear(in_features=216, out_features=64),\n",
    "            nn.ReLU(),\n",
    "            nn.Dropout(p=.1),\n",
    "            nn.Linear(in_features=64, out_features=17),\n",
    "        )\n",
    "\n",
    "    def forward(self, x, ex_features=None):\n",
    "        return self.cnn(x)\n",
    "\n",
    "\n",
    "def calc_next_len_conv1d(current_len=112500, kernel_size=16, stride=8, padding=0, dilation=1):\n",
    "    return int(np.floor((current_len + 2 * padding - dilation * (kernel_size - 1) - 1) / stride + 1))\n",
    "device = torch.device(\"cuda\" if torch.cuda.is_available() else \"cpu\")\n",
    "model = arrhythmia_classifier().to(device)\n",
    "from torchsummary import summary\n",
    "summary(model, input_size=(1, 3600))\n",
    "\n",
    "model = torch.load('test_1.pt',map_location='cuda')"
   ]
  },
  {
   "cell_type": "code",
   "execution_count": 5,
   "id": "73630855",
   "metadata": {},
   "outputs": [
    {
     "name": "stdout",
     "output_type": "stream",
     "text": [
      "tensor([13,  0,  6, 12,  6,  6, 16,  3,  0, 14,  6,  0, 14,  6,  7,  1],\n",
      "       device='cuda:0')\n",
      "tensor([13,  0,  6, 12,  6,  6, 16,  3,  0, 14,  6,  0, 14,  6,  7,  1],\n",
      "       device='cuda:0')\n",
      "tensor([ 0,  0,  0,  3,  3,  0, 14, 12,  0,  6,  0,  6,  7, 13, 16,  3],\n",
      "       device='cuda:0')\n",
      "tensor([ 0,  0,  0,  3,  3,  0, 14, 12,  0,  6,  0,  6,  7, 13, 16,  3],\n",
      "       device='cuda:0')\n",
      "tensor([ 3,  0, 14,  0,  3,  2,  6,  6,  7,  0, 15,  6,  1,  8,  6,  0],\n",
      "       device='cuda:0')\n",
      "tensor([ 3,  0, 14,  6,  3,  2,  6,  6,  7,  0, 15,  6,  1,  8,  6,  0],\n",
      "       device='cuda:0')\n",
      "tensor([ 6,  3,  0,  4,  0,  3, 13,  8,  3,  2,  1,  0,  0,  3,  6, 13],\n",
      "       device='cuda:0')\n",
      "tensor([ 6,  3,  0,  4,  0,  3, 13,  8,  3,  2,  1,  0,  0,  3,  6, 13],\n",
      "       device='cuda:0')\n",
      "tensor([ 6,  3, 12,  6,  3, 13, 13,  7,  0,  0,  6, 16, 16,  6, 14, 13],\n",
      "       device='cuda:0')\n",
      "tensor([ 6,  3, 12,  6,  3, 13, 13,  7,  0,  0,  6, 16,  9,  6, 14, 13],\n",
      "       device='cuda:0')\n",
      "tensor([ 0,  7,  6,  0,  6,  3,  0,  1, 13,  0,  6,  0,  0,  0, 10,  7],\n",
      "       device='cuda:0')\n",
      "tensor([ 0,  7,  6,  1,  6,  3,  0,  1, 13,  0,  6,  0,  0,  0, 10,  7],\n",
      "       device='cuda:0')\n",
      "tensor([ 6, 14,  5, 13,  0,  0,  6,  3, 12,  3,  0,  6,  0,  2,  6,  7],\n",
      "       device='cuda:0')\n",
      "tensor([ 6, 14,  5, 13,  0,  0,  6,  3, 12,  3,  0,  6,  0,  2,  6,  7],\n",
      "       device='cuda:0')\n",
      "tensor([13,  7,  2,  7,  0,  3,  0,  0,  6,  2,  3, 16, 14,  3, 14,  6],\n",
      "       device='cuda:0')\n",
      "tensor([13,  7,  2,  7,  0,  3,  0,  0,  6,  2,  3, 16, 14,  3, 14,  6],\n",
      "       device='cuda:0')\n",
      "tensor([ 3,  9,  0,  0, 11,  4,  0,  0,  0,  0, 13,  1,  0,  6,  0,  1],\n",
      "       device='cuda:0')\n",
      "tensor([ 3,  9,  0,  0, 11,  4,  0,  0,  0,  0, 13,  1,  0,  6,  0,  1],\n",
      "       device='cuda:0')\n",
      "tensor([ 3,  6,  6,  0, 13,  1,  6,  5,  3,  3,  7,  0, 16, 16,  6,  3],\n",
      "       device='cuda:0')\n",
      "tensor([ 3,  6,  6,  0, 13,  1,  6,  5,  3,  3,  7,  0, 16, 16,  6,  3],\n",
      "       device='cuda:0')\n",
      "tensor([ 0,  3,  3,  0,  0,  0,  2, 15,  1, 14,  0,  0,  3,  0,  3,  6],\n",
      "       device='cuda:0')\n",
      "tensor([ 0,  3,  3,  0,  0,  0,  2, 15,  1, 14,  0,  0,  3,  0,  3,  6],\n",
      "       device='cuda:0')\n",
      "tensor([ 3,  0,  0,  4,  6,  9,  3,  7,  0,  3, 13, 14,  3,  3, 14,  1],\n",
      "       device='cuda:0')\n",
      "tensor([ 3,  0,  0,  4,  6,  9,  3,  7,  0,  3, 13, 14,  3,  3, 14,  1],\n",
      "       device='cuda:0')\n",
      "tensor([ 6,  0,  6,  0,  6,  0, 13,  6], device='cuda:0')\n",
      "tensor([ 6,  0,  6,  0,  6,  0, 13,  6], device='cuda:0')\n",
      "Accuracy on test set: 98 %\n"
     ]
    }
   ],
   "source": [
    "correct = 0\n",
    "total = 0\n",
    "with torch.no_grad():\n",
    "        for data in test_loader:\n",
    "            images, labels = data\n",
    "            outputs = model(images)\n",
    "            _, predicted = torch.max(outputs.data, dim=1)\n",
    "            print(predicted)\n",
    "            print(labels)\n",
    "            total += labels.size(0)\n",
    "            correct += (predicted == labels).sum().item()\n",
    "print('Accuracy on test set: %d %%' % (100 * correct / total))"
   ]
  },
  {
   "cell_type": "code",
   "execution_count": 6,
   "id": "bc11d842",
   "metadata": {},
   "outputs": [],
   "source": [
    "device = torch.device(\"cuda\" if torch.cuda.is_available() else \"cpu\")\n",
    "model = arrhythmia_classifier().to(device)\n",
    "#model.load_state_dict(model_zoo.load_url(model_urls['ecgnet']))\n",
    "#model.load_state_dict(copy.deepcopy(torch.load(\"/mnt/c/Users/12647/Desktop/BitSplit-master/models/test_2.pth\",device)))\n",
    "model = torch.load('test_2.pth')"
   ]
  },
  {
   "cell_type": "code",
   "execution_count": 7,
   "id": "305b48ba",
   "metadata": {},
   "outputs": [
    {
     "ename": "AttributeError",
     "evalue": "'collections.OrderedDict' object has no attribute 'modules'",
     "output_type": "error",
     "traceback": [
      "\u001b[0;31m---------------------------------------------------------------------------\u001b[0m",
      "\u001b[0;31mAttributeError\u001b[0m                            Traceback (most recent call last)",
      "\u001b[0;32m/tmp/ipykernel_1175/3096406441.py\u001b[0m in \u001b[0;36m<module>\u001b[0;34m\u001b[0m\n\u001b[0;32m----> 1\u001b[0;31m \u001b[0mmodel\u001b[0m\u001b[0;34m.\u001b[0m\u001b[0mmodules\u001b[0m\u001b[0;34m\u001b[0m\u001b[0;34m\u001b[0m\u001b[0m\n\u001b[0m",
      "\u001b[0;31mAttributeError\u001b[0m: 'collections.OrderedDict' object has no attribute 'modules'"
     ]
    }
   ],
   "source": [
    "model.modules"
   ]
  },
  {
   "cell_type": "code",
   "execution_count": null,
   "id": "01a04aa9",
   "metadata": {},
   "outputs": [],
   "source": [
    "model.cnn[0]"
   ]
  },
  {
   "cell_type": "code",
   "execution_count": 8,
   "id": "cb760531",
   "metadata": {},
   "outputs": [],
   "source": [
    "import argparse\n",
    "import os\n",
    "import scipy.io as scio\n",
    "from sklearn.model_selection import train_test_split\n",
    "import torch\n",
    "import torch.nn as nn\n",
    "from torch.nn import functional as F\n",
    "from torch.autograd import Variable\n",
    "from torch.utils.data import Dataset, DataLoader\n",
    "from torchvision import transforms\n",
    "import torch.optim as optim\n",
    "import math\n",
    "from torchvision import datasets, transforms \n",
    "import numpy as np\n",
    "\n",
    "# Defining the network (ECGNet5)  \n",
    "in_channels_ = 1\n",
    "num_segments_in_record = 100\n",
    "segment_len = 3600   # 3600 采样\n",
    "num_classes = 17\n",
    "def normalization(data):\n",
    "    _range = np.max(data) - np.min(data)\n",
    "    return (data - np.min(data)) / _range\n",
    "        \n",
    "def standardization(data):\n",
    "    mu = np.mean(data, axis=0)\n",
    "    sigma = np.std(data, axis=0)\n",
    "    return (data - mu) / sigma\n",
    "\n",
    "class ECGNet(nn.Module):\n",
    "    def __init__(self, in_channels=in_channels_):\n",
    "        super(ECGNet, self).__init__()\n",
    "        self.features = nn.Sequential(\n",
    "            nn.Conv1d(1,8,16,stride=2,padding=7),\n",
    "            nn.ReLU(),\n",
    "            #nn.BatchNorm1d(8),\n",
    "            nn.MaxPool1d(kernel_size=8,stride=4),\n",
    "   \n",
    "            nn.Conv1d(8,12,12,padding=5,stride=2),\n",
    "            nn.ReLU(),\n",
    "            #nn.BatchNorm1d(16),\n",
    "            nn.MaxPool1d(4,stride=2),\n",
    "            \n",
    "            nn.Conv1d(12,32,9,stride=1,padding=4),\n",
    "            nn.ReLU(),\n",
    "            nn.MaxPool1d(5,stride=2),\n",
    "            \n",
    "            nn.Conv1d(32,64,7,stride=1,padding=3),\n",
    "            nn.ReLU(),\n",
    "            nn.MaxPool1d(4,stride=2),\n",
    "            \n",
    "            nn.Conv1d(64,64,5,stride=1,padding=2),\n",
    "            nn.ReLU(),\n",
    "            nn.MaxPool1d(2,2),\n",
    "            \n",
    "            nn.Conv1d(64,64,3,stride=1,padding=1),\n",
    "            nn.ReLU(),\n",
    "            nn.MaxPool1d(2,2),\n",
    "            \n",
    "            nn.Conv1d(64,72,3,stride=1,padding=1),\n",
    "            nn.ReLU(),\n",
    "            nn.MaxPool1d(2,2),\n",
    "        )\n",
    "        self.classifier = torch.nn.Sequential(\n",
    "            nn.Linear(in_features=216, out_features=64),\n",
    "            nn.ReLU(),\n",
    "            nn.Dropout(p=.1),\n",
    "            nn.Linear(in_features=64, out_features=17),\n",
    "        )\n",
    "\n",
    "    def forward(self, x, ex_features=None):\n",
    "        x = self.features(x)\n",
    "        x = x.view((-1,216))\n",
    "        x = self.classifier(x)\n",
    "        return x"
   ]
  },
  {
   "cell_type": "code",
   "execution_count": 9,
   "id": "f5d921fd",
   "metadata": {},
   "outputs": [
    {
     "data": {
      "text/plain": [
       "<All keys matched successfully>"
      ]
     },
     "execution_count": 9,
     "metadata": {},
     "output_type": "execute_result"
    }
   ],
   "source": [
    "import torch\n",
    "net = ECGNet().cuda()\n",
    "checkpoint = torch.load('ECGNet_model_q.pth')\n",
    "net.load_state_dict(checkpoint['net_state_dict'])"
   ]
  },
  {
   "cell_type": "code",
   "execution_count": 10,
   "id": "fa0e03d8",
   "metadata": {
    "scrolled": true
   },
   "outputs": [
    {
     "data": {
      "text/plain": [
       "Parameter containing:\n",
       "tensor([[[ 0.1555, -0.1555, -0.1555,  0.1555, -0.1555, -0.1555,  0.1555,\n",
       "          -0.1555, -0.1555,  0.1555, -0.1555, -0.1555, -0.1555,  0.1555,\n",
       "           0.1555, -0.1555]],\n",
       "\n",
       "        [[ 0.1634,  0.1634,  0.1634,  0.1634,  0.1634,  0.1634, -0.1634,\n",
       "           0.1634, -0.1634,  0.1634, -0.1634,  0.1634,  0.1634,  0.1634,\n",
       "           0.1634, -0.1634]],\n",
       "\n",
       "        [[ 0.1754,  0.1754,  0.1754,  0.1754,  0.1754,  0.1754, -0.1754,\n",
       "           0.1754, -0.1754,  0.1754,  0.1754,  0.1754,  0.1754,  0.1754,\n",
       "           0.1754, -0.1754]],\n",
       "\n",
       "        [[ 0.1386, -0.1386,  0.1386,  0.1386,  0.1386, -0.1386, -0.1386,\n",
       "           0.1386,  0.1386, -0.1386, -0.1386, -0.1386, -0.1386,  0.1386,\n",
       "           0.1386,  0.1386]],\n",
       "\n",
       "        [[-0.0311, -0.0311, -0.2602, -0.2602, -0.2602,  0.0311,  0.0311,\n",
       "           0.2602, -0.0311, -0.0311, -0.0311,  0.2602,  0.2602, -0.0311,\n",
       "           0.2602,  0.0311]],\n",
       "\n",
       "        [[ 0.1844,  0.1844,  0.1844,  0.1844,  0.1844,  0.1844,  0.1844,\n",
       "           0.1844,  0.1844,  0.1844,  0.1844,  0.1844,  0.1844,  0.1844,\n",
       "           0.1844, -0.1844]],\n",
       "\n",
       "        [[ 0.1386,  0.1386, -0.1386,  0.1386,  0.1386, -0.1386,  0.1386,\n",
       "           0.1386,  0.1386,  0.1386,  0.1386,  0.1386,  0.1386, -0.1386,\n",
       "          -0.1386,  0.1386]],\n",
       "\n",
       "        [[ 0.0725, -0.0725, -0.2573, -0.2573, -0.0725,  0.0725,  0.0725,\n",
       "           0.0725, -0.2573, -0.0725, -0.2573, -0.2573, -0.2573, -0.2573,\n",
       "          -0.0725, -0.2573]]], device='cuda:0', requires_grad=True)"
      ]
     },
     "execution_count": 10,
     "metadata": {},
     "output_type": "execute_result"
    }
   ],
   "source": [
    "net.features[0].weight"
   ]
  },
  {
   "cell_type": "code",
   "execution_count": 131,
   "id": "de4eff7b",
   "metadata": {},
   "outputs": [
    {
     "data": {
      "image/png": "[encoded data removed]",
      "text/plain": [
       "<Figure size 504x360 with 1 Axes>"
      ]
     },
     "metadata": {
      "needs_background": "light"
     },
     "output_type": "display_data"
    }
   ],
   "source": [
    "import matplotlib.pyplot as plt\n",
    "import numpy as np\n",
    "x = ['10','20','30','40','50','60','70','80']\n",
    "y1=[4.875,4.25,3.625,3.5,2.375,1.125,0.875,0.5]\n",
    "y2 =[5.4062,4.1875,3.25,2.5417,1.9688,1.5312,1.2396,0.96]\n",
    "y3 =[4.6667,3.6302,2.8229,2.1875,1.7031,1.3464,1.0547,0.8307]\n",
    "y4 = [4.6562,3.6252,2.8218,2.1963,1.7095,1.3281,1.0327,0.8042]\n",
    "y5 = [3.8501,2.9958,2.3313,1.8149,1.4133,1.1003,0.8567,0.6672]\n",
    "y6=[2.3279,1.8108,1.4094,1.0972,0.8547,0.6653,0.5186,0.4036]\n",
    "y7 = [2.3307,1.8138,1.4112,1.099,0.8555,0.6669,0.5189,0.7734]\n",
    "y8=[4.6875,3.6328,2.8359,2.1719,1.6797,1.3125,1.0078,0.7059]\n",
    "y9=[4.5882,3.4118,2.5294,1.8824,1.2941,1.27,1.21,1.2]\n",
    "aver=[4.154277778,3.261966667,2.559655556,2.054544444,1.5393,1.149522222,0.923777778,0.760555556]\n",
    "acc = [0.933,0.932,0.925,0.905,0.82,0.7,0.655,0.34]\n",
    "#len1 = np.arange(5)\n",
    "#width=0.4\n",
    "plt.figure(figsize=(7,5))\n",
    "plt.plot(x, y1, 'm.-.', label='Conv1', linewidth=2)\n",
    "plt.plot(x,y2, 'rv-.',label='Conv2',linewidth=2)\n",
    "plt.plot(x,y3, 'ks-.',label='Conv3',linewidth=2)\n",
    "plt.plot(x,y4, 'D-.',label='Conv4',linewidth=2)\n",
    "plt.plot(x,y5, '4-.',label='Conv5',linewidth=2)\n",
    "plt.plot(x,y6, 'P-.',label='Conv6',linewidth=2)\n",
    "plt.plot(x,y7, '1-.',label='Conv7',linewidth=2)\n",
    "plt.plot(x,y8, 'b*-.',label='Dense',linewidth=2)\n",
    "plt.plot(x,y9, 'yX-.',label='Softmax',linewidth=2)\n",
    "plt.bar(x,aver,label='Average',width=0.4)\n",
    "#plt.bar(len+0.2,acc*5,label='Accuracy',width=0.25,color='violet')\n",
    "plt.legend()\n",
    "\n",
    "# y2=[1.25,1.9896,1.7005,1.7095,1.4133,0.8545,0.8550,1.7422,2.0]\n",
    "# fig = plt.figure(figsize=(10,6))\n",
    "# width=0.4\n",
    "# ax1 = fig.add_subplot(111)\n",
    "# a = ax1.bar(x+0.2,y2,width,label = 'Average Bitwidth')\n",
    "\n",
    "# ax2 = ax1.twinx()\n",
    "# b = ax2.bar(x-0.2,y1,width,label ='Parameters', color='orange')\n",
    "# plt.xticks(x, labels=x1)\n",
    "plt.xlabel('Epoch')\n",
    "# plt.legend(handles=[a,b],loc='upper left')\n",
    "# ax1.set_xlabel(\"Layer\",fontsize=15)\n",
    "plt.savefig(fname=\"ana1.pdf\",format=\"pdf\")"
   ]
  },
  {
   "cell_type": "code",
   "execution_count": 132,
   "id": "a04f731e",
   "metadata": {},
   "outputs": [
    {
     "data": {
      "image/png": "[encoded data removed]",
      "text/plain": [
       "<Figure size 504x360 with 1 Axes>"
      ]
     },
     "metadata": {
      "needs_background": "light"
     },
     "output_type": "display_data"
    }
   ],
   "source": [
    "x = ['10','20','30','40','50','60','70','80']\n",
    "loss = [0.0948,0.07651,0.231581,0.1709,0.6564,2.04,2.541,2.69]\n",
    "acc = [0.933,0.932,0.925,0.905,0.83,0.7,0.59,0.34]\n",
    "acc_2 = [0.958,0.958,0.957,0.958,0.956,0.853,0.72,0.57]\n",
    "plt.figure(figsize=(7,5))\n",
    "plt.plot(x, acc, 'D-.', label='Accuracy After Pruning', linewidth=2)\n",
    "plt.plot(x,loss,'o-.',label='Loss After Pruning',linewidth=2)\n",
    "plt.plot(x,acc_2,'p-.',label='Recovered Accuracy',linewidth=2)\n",
    "plt.legend()\n",
    "plt.xlabel('Epoch')\n",
    "plt.savefig(fname=\"ana2.pdf\",format=\"pdf\")"
   ]
  }
 ],
 "metadata": {
  "kernelspec": {
   "display_name": "Python 3 (ipykernel)",
   "language": "python",
   "name": "python3"
  },
  "language_info": {
   "codemirror_mode": {
    "name": "ipython",
    "version": 3
   },
   "file_extension": ".py",
   "mimetype": "text/x-python",
   "name": "python",
   "nbconvert_exporter": "python",
   "pygments_lexer": "ipython3",
   "version": "3.7.11"
  }
 },
 "nbformat": 4,
 "nbformat_minor": 5
}

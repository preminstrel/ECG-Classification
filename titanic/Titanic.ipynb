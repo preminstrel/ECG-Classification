{
 "cells": [
  {
   "cell_type": "markdown",
   "id": "58b9a517",
   "metadata": {},
   "source": [
    "# Titanic"
   ]
  },
  {
   "cell_type": "markdown",
   "id": "2f3da51d",
   "metadata": {},
   "source": [
    "## Preapare Dataset"
   ]
  },
  {
   "cell_type": "code",
   "execution_count": 51,
   "id": "472d33ae",
   "metadata": {},
   "outputs": [],
   "source": [
    "import numpy as np\n",
    "import pandas as pd\n",
    "import matplotlib.pyplot as plt\n",
    "from torch.utils.data import Dataset, DataLoader\n",
    "import torch\n",
    "\n",
    "# Read the data from csv using pandas\n",
    "df_train = pd.read_csv('./train.csv')\n",
    "df_test  = pd.read_csv('./test.csv')\n",
    "df_sub   = pd.read_csv('./gender_submission.csv')\n",
    "\n",
    "# drop useless info\n",
    "df_train.drop(['Name','Ticket','Cabin','PassengerId'],axis=1,inplace=True) # inplace表示不产生副本，直接执行\n",
    "df_test.drop( ['Name','Ticket','Cabin','PassengerId'],axis=1,inplace=True)\n",
    "\n",
    "# 指标处理\n",
    "sex      = pd.get_dummies(df_train['Sex'],drop_first=True) # 指标化处理\n",
    "embark   = pd.get_dummies(df_train['Embarked'],drop_first=True)\n",
    "df_train = pd.concat([df_train,sex,embark],axis=1)\n",
    "\n",
    "df_train.drop(['Sex','Embarked'],axis=1,inplace=True) # 删除Sex和Embarked项\n",
    "\n",
    "sex     = pd.get_dummies(df_test['Sex'],drop_first=True)\n",
    "embark  = pd.get_dummies(df_test['Embarked'],drop_first=True)\n",
    "df_test = pd.concat([df_test,sex,embark],axis=1)\n",
    "\n",
    "df_test.drop(['Sex','Embarked'],axis=1,inplace=True)\n",
    "\n",
    "# 填充NaN\n",
    "df_train.fillna(df_train.mean(),inplace=True)\n",
    "df_test.fillna(df_test.mean(),inplace=True)\n",
    "\n",
    "# 取index\n",
    "train_columns = df_train.columns\n",
    "test_columns  = df_test.columns\n",
    "\n",
    "\n",
    "df_train.columns = train_columns\n",
    "df_test.columns  = test_columns\n",
    "\n",
    "features = df_train.iloc[:,2:].columns.tolist()\n",
    "target   = df_train.loc[:, 'Survived'].name\n",
    "\n",
    "X_train = df_train.iloc[:,2:].values\n",
    "y_train = df_train.loc[:, 'Survived'].values"
   ]
  },
  {
   "cell_type": "code",
   "execution_count": 52,
   "id": "db75fce5",
   "metadata": {},
   "outputs": [],
   "source": [
    "df_train.to_csv(\"./train_x.csv\",index=False)\n",
    "df_test.to_csv(\"./test_y.csv\",index=False)"
   ]
  },
  {
   "cell_type": "code",
   "execution_count": 57,
   "id": "13ee0e3d",
   "metadata": {},
   "outputs": [],
   "source": [
    "csv_path=\"./train_x.csv\"\n",
    "class Titanicdata(Dataset):\n",
    "    def __init__(self, csv_path, transforms=None):\n",
    "        \"\"\"\n",
    "        Args:\n",
    "            csv_path (string): csv 文件路径\n",
    "            height (int): 图像高度\n",
    "            width (int): 图像宽度\n",
    "            transform: transform 操作\n",
    "        \"\"\"\n",
    "        self.data = pd.read_csv(csv_path)\n",
    "        self.y_data = torch.from_numpy(np.asarray(self.data.iloc[:, 0]))\n",
    "        self.x_data = torch.from_numpy(np.asarray(self.data.iloc[:, 0:]))\n",
    "        self.len=y_data.shape[0]\n",
    " \n",
    "    def __getitem__(self, index):\n",
    "        return self.x_data[index], self.y_data[index] # 返回对应样本即可\n",
    " \n",
    "    def __len__(self):\n",
    "        return self.len\n",
    "\n",
    "dataset = Titanicdata('./train_x.csv')\n",
    "train_loader = DataLoader(dataset=dataset, \n",
    "                          batch_size=32, \n",
    "                          shuffle=True, \n",
    "                          num_workers=2)"
   ]
  },
  {
   "cell_type": "markdown",
   "id": "7287d286",
   "metadata": {},
   "source": [
    "## Design model using Class"
   ]
  },
  {
   "cell_type": "code",
   "execution_count": 58,
   "id": "5298453e",
   "metadata": {},
   "outputs": [
    {
     "name": "stdout",
     "output_type": "stream",
     "text": [
      "TitanicNet(\n",
      "  (fc1): Linear(in_features=8, out_features=512, bias=True)\n",
      "  (fc2): Linear(in_features=512, out_features=512, bias=True)\n",
      "  (fc3): Linear(in_features=512, out_features=2, bias=True)\n",
      "  (dropout): Dropout(p=0.2, inplace=False)\n",
      ")\n"
     ]
    }
   ],
   "source": [
    "import torch\n",
    "import torch.nn as nn\n",
    "from torch.nn import functional as F\n",
    "from torch.autograd import Variable\n",
    "\n",
    "class TitanicNet(torch.nn.Module):\n",
    "    def __init__(self):\n",
    "        super(TitanicNet, self).__init__()\n",
    "        self.fc1 = torch.nn.Linear(8, 512)\n",
    "        self.fc2 = torch.nn.Linear(512, 512)\n",
    "        self.fc3 = torch.nn.Linear(512, 2)\n",
    "        self.dropout = torch.nn.Dropout(0.2)\n",
    "        \n",
    "    def forward(self, x):\n",
    "        x = F.relu(self.fc1(x))\n",
    "        x = self.dropout(x)\n",
    "        x = F.relu(self.fc2(x))\n",
    "        x = self.dropout(x)\n",
    "        x = self.fc3(x)\n",
    "        return x\n",
    "    \n",
    "model = TitanicNet()\n",
    "print(model)"
   ]
  },
  {
   "cell_type": "markdown",
   "id": "3051824e",
   "metadata": {},
   "source": [
    "## Construct loss and optimizer"
   ]
  },
  {
   "cell_type": "code",
   "execution_count": 59,
   "id": "51240c4a",
   "metadata": {},
   "outputs": [],
   "source": [
    "criterion = torch.nn.CrossEntropyLoss()\n",
    "optimizer = torch.optim.SGD(model.parameters(), lr=0.01)"
   ]
  },
  {
   "cell_type": "markdown",
   "id": "cbd68920",
   "metadata": {},
   "source": [
    "## Training Cycle"
   ]
  },
  {
   "cell_type": "code",
   "execution_count": 60,
   "id": "8b2ecb1d",
   "metadata": {},
   "outputs": [
    {
     "data": {
      "text/plain": [
       "891"
      ]
     },
     "execution_count": 60,
     "metadata": {},
     "output_type": "execute_result"
    }
   ],
   "source": [
    "len(x_data)"
   ]
  },
  {
   "cell_type": "code",
   "execution_count": 61,
   "id": "d8298120",
   "metadata": {},
   "outputs": [
    {
     "name": "stdout",
     "output_type": "stream",
     "text": [
      "Validation loss decreased (   inf ===> 2.835552). Saving the model...\n",
      "\n",
      "Epoch: 1 \tTrain Loss: 2.835552074291088 \tTrain Accuracy: 0.328125\n",
      "Validation loss decreased (2.835552 ===> 0.603854). Saving the model...\n",
      "Validation loss decreased (0.603854 ===> 0.587723). Saving the model...\n",
      "Validation loss decreased (0.587723 ===> 0.582707). Saving the model...\n",
      "Validation loss decreased (0.582707 ===> 0.578575). Saving the model...\n",
      "Validation loss decreased (0.578575 ===> 0.574395). Saving the model...\n",
      "Validation loss decreased (0.574395 ===> 0.571202). Saving the model...\n",
      "Validation loss decreased (0.571202 ===> 0.569773). Saving the model...\n",
      "Validation loss decreased (0.569773 ===> 0.565235). Saving the model...\n",
      "Validation loss decreased (0.565235 ===> 0.560236). Saving the model...\n",
      "Validation loss decreased (0.560236 ===> 0.558283). Saving the model...\n",
      "Validation loss decreased (0.558283 ===> 0.552859). Saving the model...\n",
      "Validation loss decreased (0.552859 ===> 0.550355). Saving the model...\n",
      "Validation loss decreased (0.550355 ===> 0.549560). Saving the model...\n",
      "Validation loss decreased (0.549560 ===> 0.546543). Saving the model...\n",
      "Validation loss decreased (0.546543 ===> 0.543342). Saving the model...\n",
      "Validation loss decreased (0.543342 ===> 0.542736). Saving the model...\n",
      "Validation loss decreased (0.542736 ===> 0.540840). Saving the model...\n",
      "Validation loss decreased (0.540840 ===> 0.540517). Saving the model...\n",
      "Validation loss decreased (0.540517 ===> 0.540249). Saving the model...\n",
      "Validation loss decreased (0.540249 ===> 0.539533). Saving the model...\n",
      "Validation loss decreased (0.539533 ===> 0.534200). Saving the model...\n",
      "Validation loss decreased (0.534200 ===> 0.530934). Saving the model...\n",
      "Validation loss decreased (0.530934 ===> 0.527092). Saving the model...\n",
      "Validation loss decreased (0.527092 ===> 0.526206). Saving the model...\n",
      "Validation loss decreased (0.526206 ===> 0.524338). Saving the model...\n",
      "Validation loss decreased (0.524338 ===> 0.521247). Saving the model...\n",
      "Validation loss decreased (0.521247 ===> 0.520855). Saving the model...\n",
      "Validation loss decreased (0.520855 ===> 0.519745). Saving the model...\n",
      "Validation loss decreased (0.519745 ===> 0.515103). Saving the model...\n",
      "Validation loss decreased (0.515103 ===> 0.512413). Saving the model...\n",
      "Validation loss decreased (0.512413 ===> 0.509757). Saving the model...\n",
      "Validation loss decreased (0.509757 ===> 0.509160). Saving the model...\n",
      "\n",
      "Epoch: 201 \tTrain Loss: 0.509159791167584 \tTrain Accuracy: 0.359375\n",
      "Validation loss decreased (0.509160 ===> 0.500563). Saving the model...\n",
      "Validation loss decreased (0.500563 ===> 0.495020). Saving the model...\n",
      "Validation loss decreased (0.495020 ===> 0.494184). Saving the model...\n",
      "Validation loss decreased (0.494184 ===> 0.490583). Saving the model...\n",
      "Validation loss decreased (0.490583 ===> 0.489449). Saving the model...\n",
      "Validation loss decreased (0.489449 ===> 0.486954). Saving the model...\n",
      "Validation loss decreased (0.486954 ===> 0.483988). Saving the model...\n",
      "Validation loss decreased (0.483988 ===> 0.483195). Saving the model...\n",
      "Validation loss decreased (0.483195 ===> 0.482186). Saving the model...\n",
      "Validation loss decreased (0.482186 ===> 0.477737). Saving the model...\n",
      "Validation loss decreased (0.477737 ===> 0.475818). Saving the model...\n",
      "Validation loss decreased (0.475818 ===> 0.469510). Saving the model...\n",
      "Validation loss decreased (0.469510 ===> 0.463007). Saving the model...\n",
      "Validation loss decreased (0.463007 ===> 0.459328). Saving the model...\n",
      "Validation loss decreased (0.459328 ===> 0.456888). Saving the model...\n",
      "Validation loss decreased (0.456888 ===> 0.451325). Saving the model...\n",
      "\n",
      "Epoch: 401 \tTrain Loss: 0.4754635418248584 \tTrain Accuracy: 0.390625\n",
      "Validation loss decreased (0.451325 ===> 0.450052). Saving the model...\n",
      "Validation loss decreased (0.450052 ===> 0.448608). Saving the model...\n",
      "Validation loss decreased (0.448608 ===> 0.442620). Saving the model...\n",
      "Validation loss decreased (0.442620 ===> 0.441205). Saving the model...\n",
      "Validation loss decreased (0.441205 ===> 0.436169). Saving the model...\n",
      "Validation loss decreased (0.436169 ===> 0.431914). Saving the model...\n",
      "Training Ended! \n"
     ]
    }
   ],
   "source": [
    "batch_size = 64\n",
    "n_epochs = 500\n",
    "batch_no = len(x_data) // batch_size\n",
    "\n",
    "train_loss = 0\n",
    "train_loss_min = np.Inf\n",
    "for epoch in range(n_epochs):\n",
    "    for i in range(batch_no):\n",
    "        start = i * batch_size\n",
    "        end   = start + batch_size\n",
    "        x_var = Variable(torch.FloatTensor(x_data[start:end]))\n",
    "        y_var = Variable(torch.LongTensor(y_data[start:end])) \n",
    "        \n",
    "        optimizer.zero_grad()\n",
    "        output = model(x_var)\n",
    "        loss   = criterion(output,y_var)\n",
    "        loss.backward()\n",
    "        optimizer.step()\n",
    "        \n",
    "        values, labels = torch.max(output, 1)\n",
    "        num_right   = np.sum(labels.data.numpy() == y_train[start:end])\n",
    "        train_loss += loss.item()*batch_size\n",
    "    \n",
    "    train_loss = train_loss / len(X_train)\n",
    "    if train_loss <= train_loss_min:\n",
    "        print(\"Validation loss decreased ({:6f} ===> {:6f}). Saving the model...\".format(train_loss_min,train_loss))\n",
    "        torch.save(model.state_dict(), \"model.pt\")\n",
    "        train_loss_min = train_loss\n",
    "    \n",
    "    if epoch % 200 == 0:\n",
    "        print('')\n",
    "        print(\"Epoch: {} \\tTrain Loss: {} \\tTrain Accuracy: {}\".format(epoch+1, train_loss,num_right / len(y_train[start:end]) ))\n",
    "print('Training Ended! ')"
   ]
  },
  {
   "cell_type": "markdown",
   "id": "1de398b7",
   "metadata": {},
   "source": [
    "## Predict"
   ]
  },
  {
   "cell_type": "code",
   "execution_count": 64,
   "id": "7670ab6e",
   "metadata": {},
   "outputs": [],
   "source": [
    "X_test     = df_test.iloc[:,0:].values\n",
    "X_test_var = Variable(torch.FloatTensor(X_test), requires_grad=False) \n",
    "with torch.no_grad():\n",
    "    test_result = model(X_test_var)\n",
    "values, labels = torch.max(test_result, 1)\n",
    "survived = labels.data.numpy()"
   ]
  },
  {
   "cell_type": "code",
   "execution_count": 65,
   "id": "e67cedd2",
   "metadata": {},
   "outputs": [],
   "source": [
    "submission = pd.DataFrame({'PassengerId': df_sub['PassengerId'], 'Survived': survived})\n",
    "submission.to_csv('submission.csv', index=False)"
   ]
  },
  {
   "cell_type": "code",
   "execution_count": 72,
   "id": "651b8e27",
   "metadata": {},
   "outputs": [
    {
     "data": {
      "text/plain": [
       "tensor([0, 0, 0, 0, 0, 0, 0, 0, 0, 0, 0, 0, 0, 0, 0, 0, 0, 0, 0, 0, 0, 0, 0, 0,\n",
       "        0, 0, 0, 0, 0, 0, 0, 0, 0, 0, 0, 0, 0, 0, 0, 0, 0, 0, 0, 0, 0, 0, 0, 0,\n",
       "        0, 0, 0, 0, 0, 0, 0, 0, 0, 0, 0, 0, 0, 0, 0, 0, 0, 0, 0, 0, 0, 1, 0, 0,\n",
       "        0, 0, 0, 0, 0, 0, 0, 0, 0, 0, 0, 0, 0, 0, 0, 0, 0, 0, 0, 0, 0, 0, 0, 0,\n",
       "        0, 0, 0, 0, 0, 0, 0, 0, 0, 0, 0, 0, 0, 0, 0, 0, 0, 0, 0, 0, 0, 0, 0, 0,\n",
       "        0, 0, 0, 0, 0, 0, 0, 0, 0, 0, 0, 0, 0, 0, 0, 0, 0, 0, 0, 0, 0, 0, 0, 0,\n",
       "        0, 0, 0, 0, 0, 0, 0, 0, 0, 0, 0, 0, 0, 0, 0, 0, 0, 0, 0, 0, 0, 0, 0, 0,\n",
       "        0, 0, 0, 0, 0, 0, 0, 0, 0, 0, 0, 0, 0, 0, 0, 0, 0, 0, 0, 0, 0, 0, 0, 0,\n",
       "        0, 0, 0, 0, 1, 0, 0, 0, 0, 1, 0, 0, 0, 0, 0, 0, 0, 0, 0, 0, 0, 0, 0, 0,\n",
       "        0, 0, 0, 0, 0, 0, 0, 0, 0, 0, 0, 0, 0, 0, 0, 0, 0, 0, 0, 0, 0, 0, 0, 0,\n",
       "        0, 0, 0, 0, 0, 0, 0, 0, 0, 0, 0, 0, 0, 0, 0, 0, 0, 0, 0, 0, 0, 0, 0, 0,\n",
       "        0, 0, 0, 0, 0, 0, 0, 0, 0, 0, 0, 0, 0, 0, 0, 0, 0, 0, 0, 0, 1, 0, 0, 0,\n",
       "        0, 0, 0, 0, 0, 0, 0, 0, 1, 0, 0, 0, 0, 0, 0, 0, 0, 0, 0, 0, 0, 0, 0, 0,\n",
       "        0, 0, 0, 0, 0, 0, 0, 0, 0, 0, 0, 0, 0, 0, 0, 0, 0, 0, 0, 0, 0, 0, 0, 0,\n",
       "        0, 0, 0, 0, 0, 0, 0, 0, 0, 0, 0, 0, 0, 0, 0, 0, 0, 0, 1, 0, 0, 0, 0, 0,\n",
       "        0, 0, 0, 0, 0, 0, 0, 0, 0, 0, 0, 0, 0, 0, 0, 0, 0, 0, 0, 0, 0, 0, 0, 0,\n",
       "        0, 0, 0, 0, 0, 0, 0, 0, 0, 0, 0, 0, 0, 0, 0, 0, 0, 0, 0, 0, 0, 0, 0, 0,\n",
       "        0, 0, 0, 0, 0, 0, 0, 0, 0, 0])"
      ]
     },
     "execution_count": 72,
     "metadata": {},
     "output_type": "execute_result"
    }
   ],
   "source": [
    "labels"
   ]
  },
  {
   "cell_type": "code",
   "execution_count": null,
   "id": "3dbde416",
   "metadata": {},
   "outputs": [],
   "source": []
  }
 ],
 "metadata": {
  "kernelspec": {
   "display_name": "Python 3 (ipykernel)",
   "language": "python",
   "name": "python3"
  },
  "language_info": {
   "codemirror_mode": {
    "name": "ipython",
    "version": 3
   },
   "file_extension": ".py",
   "mimetype": "text/x-python",
   "name": "python",
   "nbconvert_exporter": "python",
   "pygments_lexer": "ipython3",
   "version": "3.7.11"
  }
 },
 "nbformat": 4,
 "nbformat_minor": 5
}
